{
  "nbformat": 4,
  "nbformat_minor": 0,
  "metadata": {
    "kernelspec": {
      "display_name": "Python 3",
      "language": "python",
      "name": "python3"
    },
    "language_info": {
      "codemirror_mode": {
        "name": "ipython",
        "version": 3
      },
      "file_extension": ".py",
      "mimetype": "text/x-python",
      "name": "python",
      "nbconvert_exporter": "python",
      "pygments_lexer": "ipython3",
      "version": "3.6.6"
    },
    "colab": {
      "name": "Copy of Online Retail Customer Segmentation - Capstone Project.ipynb",
      "provenance": [],
      "collapsed_sections": [],
      "include_colab_link": true
    }
  },
  "cells": [
    {
      "cell_type": "markdown",
      "metadata": {
        "id": "view-in-github",
        "colab_type": "text"
      },
      "source": [
        "<a href=\"https://colab.research.google.com/github/tnatani/Online-Retail-Customer-Segmentation/blob/main/Copy_of_Online_Retail_Customer_Segmentation_Capstone_Project.ipynb\" target=\"_parent\"><img src=\"https://colab.research.google.com/assets/colab-badge.svg\" alt=\"Open In Colab\"/></a>"
      ]
    },
    {
      "cell_type": "markdown",
      "metadata": {
        "id": "tOGC-qoyhJeX"
      },
      "source": [
        "# <b><u> Project Title : Extraction/identification of major topics & themes discussed in news articles. </u></b>"
      ]
    },
    {
      "cell_type": "markdown",
      "metadata": {
        "id": "Y06xIdG26kRF"
      },
      "source": [
        "## <b> Problem Description </b>\n",
        "\n",
        "### In this project, your task is to identify major customer segments on a transnational data set which contains all the transactions occurring between 01/12/2010 and 09/12/2011 for a UK-based and registered non-store online retail.The company mainly sells unique all-occasion gifts. Many customers of the company are wholesalers."
      ]
    },
    {
      "cell_type": "markdown",
      "metadata": {
        "id": "AlLxAtlziMbP"
      },
      "source": [
        "## <b> Data Description </b>\n",
        "\n",
        "### <b>Attribute Information: </b>\n",
        "\n",
        "* ### InvoiceNo: Invoice number. Nominal, a 6-digit integral number uniquely assigned to each transaction. If this code starts with letter 'c', it indicates a cancellation.\n",
        "* ### StockCode: Product (item) code. Nominal, a 5-digit integral number uniquely assigned to each distinct product.\n",
        "* ### Description: Product (item) name. Nominal.\n",
        "* ### Quantity: The quantities of each product (item) per transaction. Numeric.\n",
        "* ### InvoiceDate: Invice Date and time. Numeric, the day and time when each transaction was generated.\n",
        "* ### UnitPrice: Unit price. Numeric, Product price per unit in sterling.\n",
        "* ### CustomerID: Customer number. Nominal, a 5-digit integral number uniquely assigned to each customer.\n",
        "* ### Country: Country name. Nominal, the name of the country where each customer resides."
      ]
    },
    {
      "cell_type": "code",
      "metadata": {
        "id": "dByMsuzT8Tnw"
      },
      "source": [
        "import pandas as pd\n",
        "import numpy as np\n",
        "\n",
        "import seaborn as sns\n",
        "import matplotlib.pyplot as plt\n",
        "\n",
        "import warnings\n",
        "warnings.filterwarnings('ignore')\n",
        "\n",
        "from sklearn.cluster import KMeans"
      ],
      "execution_count": 1,
      "outputs": []
    },
    {
      "cell_type": "markdown",
      "source": [
        "**Reading csv file and checking data types and null value information using info**"
      ],
      "metadata": {
        "id": "H2pzmsTVyWHq"
      }
    },
    {
      "cell_type": "code",
      "source": [
        "data = pd.read_csv(\"/content/Online Retail.xlsx - Online Retail.csv\", encoding = \"ISO-8859-1\")\n",
        "print(data.info())\n",
        "data.head()"
      ],
      "metadata": {
        "id": "Mt0kiTioyO9Q",
        "outputId": "f7f9c79b-611f-49ec-8942-649bce54e1db",
        "colab": {
          "base_uri": "https://localhost:8080/",
          "height": 484
        }
      },
      "execution_count": 3,
      "outputs": [
        {
          "output_type": "stream",
          "name": "stdout",
          "text": [
            "<class 'pandas.core.frame.DataFrame'>\n",
            "RangeIndex: 541909 entries, 0 to 541908\n",
            "Data columns (total 8 columns):\n",
            " #   Column       Non-Null Count   Dtype  \n",
            "---  ------       --------------   -----  \n",
            " 0   InvoiceNo    541909 non-null  object \n",
            " 1   StockCode    541909 non-null  object \n",
            " 2   Description  540455 non-null  object \n",
            " 3   Quantity     541909 non-null  int64  \n",
            " 4   InvoiceDate  541909 non-null  object \n",
            " 5   UnitPrice    541909 non-null  float64\n",
            " 6   CustomerID   406829 non-null  float64\n",
            " 7   Country      541909 non-null  object \n",
            "dtypes: float64(2), int64(1), object(5)\n",
            "memory usage: 33.1+ MB\n",
            "None\n"
          ]
        },
        {
          "output_type": "execute_result",
          "data": {
            "text/plain": [
              "  InvoiceNo StockCode                          Description  Quantity  \\\n",
              "0    536365    85123A   WHITE HANGING HEART T-LIGHT HOLDER         6   \n",
              "1    536365     71053                  WHITE METAL LANTERN         6   \n",
              "2    536365    84406B       CREAM CUPID HEARTS COAT HANGER         8   \n",
              "3    536365    84029G  KNITTED UNION FLAG HOT WATER BOTTLE         6   \n",
              "4    536365    84029E       RED WOOLLY HOTTIE WHITE HEART.         6   \n",
              "\n",
              "    InvoiceDate  UnitPrice  CustomerID         Country  \n",
              "0  12/1/10 8:26       2.55     17850.0  United Kingdom  \n",
              "1  12/1/10 8:26       3.39     17850.0  United Kingdom  \n",
              "2  12/1/10 8:26       2.75     17850.0  United Kingdom  \n",
              "3  12/1/10 8:26       3.39     17850.0  United Kingdom  \n",
              "4  12/1/10 8:26       3.39     17850.0  United Kingdom  "
            ],
            "text/html": [
              "\n",
              "  <div id=\"df-de856918-5fb1-46c7-8807-e406bae4d56f\">\n",
              "    <div class=\"colab-df-container\">\n",
              "      <div>\n",
              "<style scoped>\n",
              "    .dataframe tbody tr th:only-of-type {\n",
              "        vertical-align: middle;\n",
              "    }\n",
              "\n",
              "    .dataframe tbody tr th {\n",
              "        vertical-align: top;\n",
              "    }\n",
              "\n",
              "    .dataframe thead th {\n",
              "        text-align: right;\n",
              "    }\n",
              "</style>\n",
              "<table border=\"1\" class=\"dataframe\">\n",
              "  <thead>\n",
              "    <tr style=\"text-align: right;\">\n",
              "      <th></th>\n",
              "      <th>InvoiceNo</th>\n",
              "      <th>StockCode</th>\n",
              "      <th>Description</th>\n",
              "      <th>Quantity</th>\n",
              "      <th>InvoiceDate</th>\n",
              "      <th>UnitPrice</th>\n",
              "      <th>CustomerID</th>\n",
              "      <th>Country</th>\n",
              "    </tr>\n",
              "  </thead>\n",
              "  <tbody>\n",
              "    <tr>\n",
              "      <th>0</th>\n",
              "      <td>536365</td>\n",
              "      <td>85123A</td>\n",
              "      <td>WHITE HANGING HEART T-LIGHT HOLDER</td>\n",
              "      <td>6</td>\n",
              "      <td>12/1/10 8:26</td>\n",
              "      <td>2.55</td>\n",
              "      <td>17850.0</td>\n",
              "      <td>United Kingdom</td>\n",
              "    </tr>\n",
              "    <tr>\n",
              "      <th>1</th>\n",
              "      <td>536365</td>\n",
              "      <td>71053</td>\n",
              "      <td>WHITE METAL LANTERN</td>\n",
              "      <td>6</td>\n",
              "      <td>12/1/10 8:26</td>\n",
              "      <td>3.39</td>\n",
              "      <td>17850.0</td>\n",
              "      <td>United Kingdom</td>\n",
              "    </tr>\n",
              "    <tr>\n",
              "      <th>2</th>\n",
              "      <td>536365</td>\n",
              "      <td>84406B</td>\n",
              "      <td>CREAM CUPID HEARTS COAT HANGER</td>\n",
              "      <td>8</td>\n",
              "      <td>12/1/10 8:26</td>\n",
              "      <td>2.75</td>\n",
              "      <td>17850.0</td>\n",
              "      <td>United Kingdom</td>\n",
              "    </tr>\n",
              "    <tr>\n",
              "      <th>3</th>\n",
              "      <td>536365</td>\n",
              "      <td>84029G</td>\n",
              "      <td>KNITTED UNION FLAG HOT WATER BOTTLE</td>\n",
              "      <td>6</td>\n",
              "      <td>12/1/10 8:26</td>\n",
              "      <td>3.39</td>\n",
              "      <td>17850.0</td>\n",
              "      <td>United Kingdom</td>\n",
              "    </tr>\n",
              "    <tr>\n",
              "      <th>4</th>\n",
              "      <td>536365</td>\n",
              "      <td>84029E</td>\n",
              "      <td>RED WOOLLY HOTTIE WHITE HEART.</td>\n",
              "      <td>6</td>\n",
              "      <td>12/1/10 8:26</td>\n",
              "      <td>3.39</td>\n",
              "      <td>17850.0</td>\n",
              "      <td>United Kingdom</td>\n",
              "    </tr>\n",
              "  </tbody>\n",
              "</table>\n",
              "</div>\n",
              "      <button class=\"colab-df-convert\" onclick=\"convertToInteractive('df-de856918-5fb1-46c7-8807-e406bae4d56f')\"\n",
              "              title=\"Convert this dataframe to an interactive table.\"\n",
              "              style=\"display:none;\">\n",
              "        \n",
              "  <svg xmlns=\"http://www.w3.org/2000/svg\" height=\"24px\"viewBox=\"0 0 24 24\"\n",
              "       width=\"24px\">\n",
              "    <path d=\"M0 0h24v24H0V0z\" fill=\"none\"/>\n",
              "    <path d=\"M18.56 5.44l.94 2.06.94-2.06 2.06-.94-2.06-.94-.94-2.06-.94 2.06-2.06.94zm-11 1L8.5 8.5l.94-2.06 2.06-.94-2.06-.94L8.5 2.5l-.94 2.06-2.06.94zm10 10l.94 2.06.94-2.06 2.06-.94-2.06-.94-.94-2.06-.94 2.06-2.06.94z\"/><path d=\"M17.41 7.96l-1.37-1.37c-.4-.4-.92-.59-1.43-.59-.52 0-1.04.2-1.43.59L10.3 9.45l-7.72 7.72c-.78.78-.78 2.05 0 2.83L4 21.41c.39.39.9.59 1.41.59.51 0 1.02-.2 1.41-.59l7.78-7.78 2.81-2.81c.8-.78.8-2.07 0-2.86zM5.41 20L4 18.59l7.72-7.72 1.47 1.35L5.41 20z\"/>\n",
              "  </svg>\n",
              "      </button>\n",
              "      \n",
              "  <style>\n",
              "    .colab-df-container {\n",
              "      display:flex;\n",
              "      flex-wrap:wrap;\n",
              "      gap: 12px;\n",
              "    }\n",
              "\n",
              "    .colab-df-convert {\n",
              "      background-color: #E8F0FE;\n",
              "      border: none;\n",
              "      border-radius: 50%;\n",
              "      cursor: pointer;\n",
              "      display: none;\n",
              "      fill: #1967D2;\n",
              "      height: 32px;\n",
              "      padding: 0 0 0 0;\n",
              "      width: 32px;\n",
              "    }\n",
              "\n",
              "    .colab-df-convert:hover {\n",
              "      background-color: #E2EBFA;\n",
              "      box-shadow: 0px 1px 2px rgba(60, 64, 67, 0.3), 0px 1px 3px 1px rgba(60, 64, 67, 0.15);\n",
              "      fill: #174EA6;\n",
              "    }\n",
              "\n",
              "    [theme=dark] .colab-df-convert {\n",
              "      background-color: #3B4455;\n",
              "      fill: #D2E3FC;\n",
              "    }\n",
              "\n",
              "    [theme=dark] .colab-df-convert:hover {\n",
              "      background-color: #434B5C;\n",
              "      box-shadow: 0px 1px 3px 1px rgba(0, 0, 0, 0.15);\n",
              "      filter: drop-shadow(0px 1px 2px rgba(0, 0, 0, 0.3));\n",
              "      fill: #FFFFFF;\n",
              "    }\n",
              "  </style>\n",
              "\n",
              "      <script>\n",
              "        const buttonEl =\n",
              "          document.querySelector('#df-de856918-5fb1-46c7-8807-e406bae4d56f button.colab-df-convert');\n",
              "        buttonEl.style.display =\n",
              "          google.colab.kernel.accessAllowed ? 'block' : 'none';\n",
              "\n",
              "        async function convertToInteractive(key) {\n",
              "          const element = document.querySelector('#df-de856918-5fb1-46c7-8807-e406bae4d56f');\n",
              "          const dataTable =\n",
              "            await google.colab.kernel.invokeFunction('convertToInteractive',\n",
              "                                                     [key], {});\n",
              "          if (!dataTable) return;\n",
              "\n",
              "          const docLinkHtml = 'Like what you see? Visit the ' +\n",
              "            '<a target=\"_blank\" href=https://colab.research.google.com/notebooks/data_table.ipynb>data table notebook</a>'\n",
              "            + ' to learn more about interactive tables.';\n",
              "          element.innerHTML = '';\n",
              "          dataTable['output_type'] = 'display_data';\n",
              "          await google.colab.output.renderOutput(dataTable, element);\n",
              "          const docLink = document.createElement('div');\n",
              "          docLink.innerHTML = docLinkHtml;\n",
              "          element.appendChild(docLink);\n",
              "        }\n",
              "      </script>\n",
              "    </div>\n",
              "  </div>\n",
              "  "
            ]
          },
          "metadata": {},
          "execution_count": 3
        }
      ]
    },
    {
      "cell_type": "markdown",
      "source": [
        "**Data Cleaning and EDA**"
      ],
      "metadata": {
        "id": "5PaDUyIH0Y08"
      }
    },
    {
      "cell_type": "markdown",
      "source": [
        "**Checking for duplicates if any present**"
      ],
      "metadata": {
        "id": "y3XF34m00eh1"
      }
    },
    {
      "cell_type": "code",
      "source": [
        "print(\"Shape before dropping duplicates\", data.shape)\n",
        "data = data.drop_duplicates()\n",
        "print(\"Shape after dropping duplicates\", data.shape)"
      ],
      "metadata": {
        "id": "8dOm_VVy1KTy",
        "outputId": "9ac5249d-e9cb-4024-da5b-f1425f36f6c5",
        "colab": {
          "base_uri": "https://localhost:8080/"
        }
      },
      "execution_count": 4,
      "outputs": [
        {
          "output_type": "stream",
          "name": "stdout",
          "text": [
            "Shape before dropping duplicates (541909, 8)\n",
            "Shape after dropping duplicates (536641, 8)\n"
          ]
        }
      ]
    },
    {
      "cell_type": "markdown",
      "source": [
        "**Checking Data Shape and Unique Values in different columns**"
      ],
      "metadata": {
        "id": "WK7HnyP81RRI"
      }
    },
    {
      "cell_type": "code",
      "source": [
        "print(\"Data Shape\", data.shape)\n",
        "for col in [\"InvoiceNo\",\"StockCode\",\"InvoiceDate\",\"CustomerID\", \"Country\"]:\n",
        "    print(\"Unique Values for \", col, \" - \", data[col].nunique())"
      ],
      "metadata": {
        "id": "gQFg-mTc1M-v",
        "outputId": "0d0bee56-39f0-4518-90c9-73ae624b8bf2",
        "colab": {
          "base_uri": "https://localhost:8080/"
        }
      },
      "execution_count": 5,
      "outputs": [
        {
          "output_type": "stream",
          "name": "stdout",
          "text": [
            "Data Shape (536641, 8)\n",
            "Unique Values for  InvoiceNo  -  25900\n",
            "Unique Values for  StockCode  -  4070\n",
            "Unique Values for  InvoiceDate  -  23260\n",
            "Unique Values for  CustomerID  -  4372\n",
            "Unique Values for  Country  -  38\n"
          ]
        }
      ]
    },
    {
      "cell_type": "markdown",
      "source": [
        "**Checking Nulls in CustomerID**"
      ],
      "metadata": {
        "id": "Y2ZpjbyH1aak"
      }
    },
    {
      "cell_type": "code",
      "source": [
        "\n",
        "print(np.sum(data.isnull()), \"\\n\")\n",
        "print(\"Percentage of customers missing: \", round(data['CustomerID'].isnull().sum() * 100 / len(data),2),\"%\" )"
      ],
      "metadata": {
        "id": "jc2jGYIU1WlG",
        "outputId": "2f226a05-63e7-4dfe-bf4f-f588cdc3c6ef",
        "colab": {
          "base_uri": "https://localhost:8080/"
        }
      },
      "execution_count": 6,
      "outputs": [
        {
          "output_type": "stream",
          "name": "stdout",
          "text": [
            "InvoiceNo           0\n",
            "StockCode           0\n",
            "Description      1454\n",
            "Quantity            0\n",
            "InvoiceDate         0\n",
            "UnitPrice           0\n",
            "CustomerID     135037\n",
            "Country             0\n",
            "dtype: int64 \n",
            "\n",
            "Percentage of customers missing:  25.16 %\n"
          ]
        }
      ]
    },
    {
      "cell_type": "markdown",
      "source": [
        "**Check if InvoiceNo for Null Customer ID exist in cases where Customer ID is present for filling CustomerID Nulls**"
      ],
      "metadata": {
        "id": "LgDEyTCE1nz7"
      }
    },
    {
      "cell_type": "markdown",
      "source": [
        "No such cases present as empty dataframe is returned"
      ],
      "metadata": {
        "id": "6Gds57R52Mxe"
      }
    },
    {
      "cell_type": "code",
      "source": [
        "null_id_invoices = data[data.CustomerID.isnull()][\"InvoiceNo\"].drop_duplicates().tolist()\n",
        "print(\"Invoices count with Null Customer ID\", len(null_id_invoices))\n",
        "### Check if InvoiceNo in Null CustomerID dataframe exist in Non-Null Customer ID Dataframe\n",
        "data[~data.CustomerID.isnull()][data.InvoiceNo.isin(null_id_invoices)]"
      ],
      "metadata": {
        "id": "3mcRE_FC1gRw",
        "outputId": "71567458-dd15-4e69-fb56-27ae76e8a150",
        "colab": {
          "base_uri": "https://localhost:8080/",
          "height": 66
        }
      },
      "execution_count": 7,
      "outputs": [
        {
          "output_type": "stream",
          "name": "stdout",
          "text": [
            "Invoices count with Null Customer ID 3710\n"
          ]
        },
        {
          "output_type": "execute_result",
          "data": {
            "text/plain": [
              "Empty DataFrame\n",
              "Columns: [InvoiceNo, StockCode, Description, Quantity, InvoiceDate, UnitPrice, CustomerID, Country]\n",
              "Index: []"
            ],
            "text/html": [
              "\n",
              "  <div id=\"df-ea364b94-7b32-4f11-a95d-e0a46aa827b4\">\n",
              "    <div class=\"colab-df-container\">\n",
              "      <div>\n",
              "<style scoped>\n",
              "    .dataframe tbody tr th:only-of-type {\n",
              "        vertical-align: middle;\n",
              "    }\n",
              "\n",
              "    .dataframe tbody tr th {\n",
              "        vertical-align: top;\n",
              "    }\n",
              "\n",
              "    .dataframe thead th {\n",
              "        text-align: right;\n",
              "    }\n",
              "</style>\n",
              "<table border=\"1\" class=\"dataframe\">\n",
              "  <thead>\n",
              "    <tr style=\"text-align: right;\">\n",
              "      <th></th>\n",
              "      <th>InvoiceNo</th>\n",
              "      <th>StockCode</th>\n",
              "      <th>Description</th>\n",
              "      <th>Quantity</th>\n",
              "      <th>InvoiceDate</th>\n",
              "      <th>UnitPrice</th>\n",
              "      <th>CustomerID</th>\n",
              "      <th>Country</th>\n",
              "    </tr>\n",
              "  </thead>\n",
              "  <tbody>\n",
              "  </tbody>\n",
              "</table>\n",
              "</div>\n",
              "      <button class=\"colab-df-convert\" onclick=\"convertToInteractive('df-ea364b94-7b32-4f11-a95d-e0a46aa827b4')\"\n",
              "              title=\"Convert this dataframe to an interactive table.\"\n",
              "              style=\"display:none;\">\n",
              "        \n",
              "  <svg xmlns=\"http://www.w3.org/2000/svg\" height=\"24px\"viewBox=\"0 0 24 24\"\n",
              "       width=\"24px\">\n",
              "    <path d=\"M0 0h24v24H0V0z\" fill=\"none\"/>\n",
              "    <path d=\"M18.56 5.44l.94 2.06.94-2.06 2.06-.94-2.06-.94-.94-2.06-.94 2.06-2.06.94zm-11 1L8.5 8.5l.94-2.06 2.06-.94-2.06-.94L8.5 2.5l-.94 2.06-2.06.94zm10 10l.94 2.06.94-2.06 2.06-.94-2.06-.94-.94-2.06-.94 2.06-2.06.94z\"/><path d=\"M17.41 7.96l-1.37-1.37c-.4-.4-.92-.59-1.43-.59-.52 0-1.04.2-1.43.59L10.3 9.45l-7.72 7.72c-.78.78-.78 2.05 0 2.83L4 21.41c.39.39.9.59 1.41.59.51 0 1.02-.2 1.41-.59l7.78-7.78 2.81-2.81c.8-.78.8-2.07 0-2.86zM5.41 20L4 18.59l7.72-7.72 1.47 1.35L5.41 20z\"/>\n",
              "  </svg>\n",
              "      </button>\n",
              "      \n",
              "  <style>\n",
              "    .colab-df-container {\n",
              "      display:flex;\n",
              "      flex-wrap:wrap;\n",
              "      gap: 12px;\n",
              "    }\n",
              "\n",
              "    .colab-df-convert {\n",
              "      background-color: #E8F0FE;\n",
              "      border: none;\n",
              "      border-radius: 50%;\n",
              "      cursor: pointer;\n",
              "      display: none;\n",
              "      fill: #1967D2;\n",
              "      height: 32px;\n",
              "      padding: 0 0 0 0;\n",
              "      width: 32px;\n",
              "    }\n",
              "\n",
              "    .colab-df-convert:hover {\n",
              "      background-color: #E2EBFA;\n",
              "      box-shadow: 0px 1px 2px rgba(60, 64, 67, 0.3), 0px 1px 3px 1px rgba(60, 64, 67, 0.15);\n",
              "      fill: #174EA6;\n",
              "    }\n",
              "\n",
              "    [theme=dark] .colab-df-convert {\n",
              "      background-color: #3B4455;\n",
              "      fill: #D2E3FC;\n",
              "    }\n",
              "\n",
              "    [theme=dark] .colab-df-convert:hover {\n",
              "      background-color: #434B5C;\n",
              "      box-shadow: 0px 1px 3px 1px rgba(0, 0, 0, 0.15);\n",
              "      filter: drop-shadow(0px 1px 2px rgba(0, 0, 0, 0.3));\n",
              "      fill: #FFFFFF;\n",
              "    }\n",
              "  </style>\n",
              "\n",
              "      <script>\n",
              "        const buttonEl =\n",
              "          document.querySelector('#df-ea364b94-7b32-4f11-a95d-e0a46aa827b4 button.colab-df-convert');\n",
              "        buttonEl.style.display =\n",
              "          google.colab.kernel.accessAllowed ? 'block' : 'none';\n",
              "\n",
              "        async function convertToInteractive(key) {\n",
              "          const element = document.querySelector('#df-ea364b94-7b32-4f11-a95d-e0a46aa827b4');\n",
              "          const dataTable =\n",
              "            await google.colab.kernel.invokeFunction('convertToInteractive',\n",
              "                                                     [key], {});\n",
              "          if (!dataTable) return;\n",
              "\n",
              "          const docLinkHtml = 'Like what you see? Visit the ' +\n",
              "            '<a target=\"_blank\" href=https://colab.research.google.com/notebooks/data_table.ipynb>data table notebook</a>'\n",
              "            + ' to learn more about interactive tables.';\n",
              "          element.innerHTML = '';\n",
              "          dataTable['output_type'] = 'display_data';\n",
              "          await google.colab.output.renderOutput(dataTable, element);\n",
              "          const docLink = document.createElement('div');\n",
              "          docLink.innerHTML = docLinkHtml;\n",
              "          element.appendChild(docLink);\n",
              "        }\n",
              "      </script>\n",
              "    </div>\n",
              "  </div>\n",
              "  "
            ]
          },
          "metadata": {},
          "execution_count": 7
        }
      ]
    },
    {
      "cell_type": "markdown",
      "source": [
        "Since the customer ID's are missing, I assume these orders were not made by the customers already in the data set because those customers already have ID's. I also don't want to assign these orders to those customers because this would alter the insights I draw from the data. Instead of dropping the null CustomerID values which amounts to ~25% of data, let's assign those rows a unique customer ID per order using InvoiceNo. This will act as a new customer for each unique order.\n",
        "\n",
        "Check if InvoiceNo has unique mapping with Customer ID so that each InvoiceNo corresponding to Null CustomerID can be assigned as New Customer"
      ],
      "metadata": {
        "id": "VeTomF6g2UrS"
      }
    },
    {
      "cell_type": "code",
      "source": [
        "data.groupby(['InvoiceNo'])['CustomerID'] \\\n",
        "                             .nunique() \\\n",
        "                             .reset_index(name='nunique') \\\n",
        "                             .sort_values(['nunique'], ascending=False) \\\n",
        "                             .head(5)"
      ],
      "metadata": {
        "id": "6gwatADH2Qkx",
        "outputId": "e5b429b6-5945-40a3-b1e0-1285293a6f02",
        "colab": {
          "base_uri": "https://localhost:8080/",
          "height": 206
        }
      },
      "execution_count": 8,
      "outputs": [
        {
          "output_type": "execute_result",
          "data": {
            "text/plain": [
              "      InvoiceNo  nunique\n",
              "0        536365        1\n",
              "16915    571200        1\n",
              "16924    571215        1\n",
              "16923    571214        1\n",
              "16922    571213        1"
            ],
            "text/html": [
              "\n",
              "  <div id=\"df-8c19adb4-35be-4497-8f64-716eb550fb4a\">\n",
              "    <div class=\"colab-df-container\">\n",
              "      <div>\n",
              "<style scoped>\n",
              "    .dataframe tbody tr th:only-of-type {\n",
              "        vertical-align: middle;\n",
              "    }\n",
              "\n",
              "    .dataframe tbody tr th {\n",
              "        vertical-align: top;\n",
              "    }\n",
              "\n",
              "    .dataframe thead th {\n",
              "        text-align: right;\n",
              "    }\n",
              "</style>\n",
              "<table border=\"1\" class=\"dataframe\">\n",
              "  <thead>\n",
              "    <tr style=\"text-align: right;\">\n",
              "      <th></th>\n",
              "      <th>InvoiceNo</th>\n",
              "      <th>nunique</th>\n",
              "    </tr>\n",
              "  </thead>\n",
              "  <tbody>\n",
              "    <tr>\n",
              "      <th>0</th>\n",
              "      <td>536365</td>\n",
              "      <td>1</td>\n",
              "    </tr>\n",
              "    <tr>\n",
              "      <th>16915</th>\n",
              "      <td>571200</td>\n",
              "      <td>1</td>\n",
              "    </tr>\n",
              "    <tr>\n",
              "      <th>16924</th>\n",
              "      <td>571215</td>\n",
              "      <td>1</td>\n",
              "    </tr>\n",
              "    <tr>\n",
              "      <th>16923</th>\n",
              "      <td>571214</td>\n",
              "      <td>1</td>\n",
              "    </tr>\n",
              "    <tr>\n",
              "      <th>16922</th>\n",
              "      <td>571213</td>\n",
              "      <td>1</td>\n",
              "    </tr>\n",
              "  </tbody>\n",
              "</table>\n",
              "</div>\n",
              "      <button class=\"colab-df-convert\" onclick=\"convertToInteractive('df-8c19adb4-35be-4497-8f64-716eb550fb4a')\"\n",
              "              title=\"Convert this dataframe to an interactive table.\"\n",
              "              style=\"display:none;\">\n",
              "        \n",
              "  <svg xmlns=\"http://www.w3.org/2000/svg\" height=\"24px\"viewBox=\"0 0 24 24\"\n",
              "       width=\"24px\">\n",
              "    <path d=\"M0 0h24v24H0V0z\" fill=\"none\"/>\n",
              "    <path d=\"M18.56 5.44l.94 2.06.94-2.06 2.06-.94-2.06-.94-.94-2.06-.94 2.06-2.06.94zm-11 1L8.5 8.5l.94-2.06 2.06-.94-2.06-.94L8.5 2.5l-.94 2.06-2.06.94zm10 10l.94 2.06.94-2.06 2.06-.94-2.06-.94-.94-2.06-.94 2.06-2.06.94z\"/><path d=\"M17.41 7.96l-1.37-1.37c-.4-.4-.92-.59-1.43-.59-.52 0-1.04.2-1.43.59L10.3 9.45l-7.72 7.72c-.78.78-.78 2.05 0 2.83L4 21.41c.39.39.9.59 1.41.59.51 0 1.02-.2 1.41-.59l7.78-7.78 2.81-2.81c.8-.78.8-2.07 0-2.86zM5.41 20L4 18.59l7.72-7.72 1.47 1.35L5.41 20z\"/>\n",
              "  </svg>\n",
              "      </button>\n",
              "      \n",
              "  <style>\n",
              "    .colab-df-container {\n",
              "      display:flex;\n",
              "      flex-wrap:wrap;\n",
              "      gap: 12px;\n",
              "    }\n",
              "\n",
              "    .colab-df-convert {\n",
              "      background-color: #E8F0FE;\n",
              "      border: none;\n",
              "      border-radius: 50%;\n",
              "      cursor: pointer;\n",
              "      display: none;\n",
              "      fill: #1967D2;\n",
              "      height: 32px;\n",
              "      padding: 0 0 0 0;\n",
              "      width: 32px;\n",
              "    }\n",
              "\n",
              "    .colab-df-convert:hover {\n",
              "      background-color: #E2EBFA;\n",
              "      box-shadow: 0px 1px 2px rgba(60, 64, 67, 0.3), 0px 1px 3px 1px rgba(60, 64, 67, 0.15);\n",
              "      fill: #174EA6;\n",
              "    }\n",
              "\n",
              "    [theme=dark] .colab-df-convert {\n",
              "      background-color: #3B4455;\n",
              "      fill: #D2E3FC;\n",
              "    }\n",
              "\n",
              "    [theme=dark] .colab-df-convert:hover {\n",
              "      background-color: #434B5C;\n",
              "      box-shadow: 0px 1px 3px 1px rgba(0, 0, 0, 0.15);\n",
              "      filter: drop-shadow(0px 1px 2px rgba(0, 0, 0, 0.3));\n",
              "      fill: #FFFFFF;\n",
              "    }\n",
              "  </style>\n",
              "\n",
              "      <script>\n",
              "        const buttonEl =\n",
              "          document.querySelector('#df-8c19adb4-35be-4497-8f64-716eb550fb4a button.colab-df-convert');\n",
              "        buttonEl.style.display =\n",
              "          google.colab.kernel.accessAllowed ? 'block' : 'none';\n",
              "\n",
              "        async function convertToInteractive(key) {\n",
              "          const element = document.querySelector('#df-8c19adb4-35be-4497-8f64-716eb550fb4a');\n",
              "          const dataTable =\n",
              "            await google.colab.kernel.invokeFunction('convertToInteractive',\n",
              "                                                     [key], {});\n",
              "          if (!dataTable) return;\n",
              "\n",
              "          const docLinkHtml = 'Like what you see? Visit the ' +\n",
              "            '<a target=\"_blank\" href=https://colab.research.google.com/notebooks/data_table.ipynb>data table notebook</a>'\n",
              "            + ' to learn more about interactive tables.';\n",
              "          element.innerHTML = '';\n",
              "          dataTable['output_type'] = 'display_data';\n",
              "          await google.colab.output.renderOutput(dataTable, element);\n",
              "          const docLink = document.createElement('div');\n",
              "          docLink.innerHTML = docLinkHtml;\n",
              "          element.appendChild(docLink);\n",
              "        }\n",
              "      </script>\n",
              "    </div>\n",
              "  </div>\n",
              "  "
            ]
          },
          "metadata": {},
          "execution_count": 8
        }
      ]
    },
    {
      "cell_type": "markdown",
      "source": [
        "On sorting descending, this data shows that each Invoice relates to maximum of 1 Customer\n",
        "\n",
        "Creating NewID column and Assigning to InvoiceNo wherever CustomerID is null"
      ],
      "metadata": {
        "id": "xOGnkI9023hQ"
      }
    },
    {
      "cell_type": "code",
      "source": [
        "data['NewID'] = data['CustomerID']\n",
        "data.loc[data['CustomerID'].isnull(), ['NewID']] = data['InvoiceNo']\n",
        "\n",
        "#Remove all non digits from column NewID (Since Invoice can contains \"C\" referring to cancellations)\n",
        "data['NewID'] = data['NewID'].astype(str).str.replace('\\D+', '')\n",
        "\n",
        "#Convert to integer\n",
        "data['NewID'] = pd.to_numeric(data['NewID'])\n",
        "\n",
        "### Check if presnt customerIds and New Ids have any common values since it would create alter actual Customer Insights\n",
        "customer = data['CustomerID'].nunique()\n",
        "null_invoices = data[data.CustomerID.isnull()]['InvoiceNo'].nunique()\n",
        "new_ids = data['NewID'].nunique()\n",
        "print(\"Number of Customers:\", customer)\n",
        "print(\"Number of Orders where CustomerID in Null:\", null_invoices)\n",
        "print(\"Number of Customers + Number of Orders where CustomerID in Null:\", customer + null_invoices)\n",
        "print(\"Number of New ID's:\", new_ids)"
      ],
      "metadata": {
        "id": "D_wsUTYY24Rx",
        "outputId": "d868023a-ae2a-47fe-a2dc-5b800b98b2bc",
        "colab": {
          "base_uri": "https://localhost:8080/"
        }
      },
      "execution_count": 9,
      "outputs": [
        {
          "output_type": "stream",
          "name": "stdout",
          "text": [
            "Number of Customers: 4372\n",
            "Number of Orders where CustomerID in Null: 3710\n",
            "Number of Customers + Number of Orders where CustomerID in Null: 8082\n",
            "Number of New ID's: 8082\n"
          ]
        }
      ]
    },
    {
      "cell_type": "markdown",
      "source": [
        "Since both values equal, we know all the different orders that didn't have a customer ID got assigned unique NewID and no duplicates were created"
      ],
      "metadata": {
        "id": "7lqxvSJV3A6T"
      }
    },
    {
      "cell_type": "markdown",
      "source": [
        "Converting object type to datetime for InvoiceDate and checking first and last date"
      ],
      "metadata": {
        "id": "vplYdjWV3Dtw"
      }
    },
    {
      "cell_type": "code",
      "source": [
        "data[\"InvoiceDate\"] = pd.to_datetime(data[\"InvoiceDate\"])\n",
        "print(\"Minimum Invoice Date\", min(data[\"InvoiceDate\"]))\n",
        "print(\"Maximum Invoice Date\", max(data[\"InvoiceDate\"]))"
      ],
      "metadata": {
        "id": "nZwZHsgo27dk",
        "outputId": "c47f3c03-7677-409f-fe90-345b4ab72c5e",
        "colab": {
          "base_uri": "https://localhost:8080/"
        }
      },
      "execution_count": 10,
      "outputs": [
        {
          "output_type": "stream",
          "name": "stdout",
          "text": [
            "Minimum Invoice Date 2010-12-01 08:26:00\n",
            "Maximum Invoice Date 2011-12-09 12:50:00\n"
          ]
        }
      ]
    },
    {
      "cell_type": "markdown",
      "source": [
        "Adding cancellations column based on definition that InvoiceNo starts with C"
      ],
      "metadata": {
        "id": "GahGk65C3Wix"
      }
    },
    {
      "cell_type": "code",
      "source": [
        "data[\"cancellations\"] = np.where(data[\"InvoiceNo\"].str.startswith('C'), 1,0)\n",
        "total_data = data[\"InvoiceNo\"].shape[0]\n",
        "cancelled_data = data[data.cancellations == 1].shape[0]\n",
        "print(\"Number of cancelled products data\", cancelled_data, cancelled_data*100/total_data, \"\\n\")\n",
        "\n",
        "print(data[data.cancellations == 1][\"Quantity\"].describe())\n",
        "\n",
        "#### Removing cancellations since they have negative quantities and makes only ~2% of data\n",
        "data = data[data.cancellations == 0]"
      ],
      "metadata": {
        "id": "Fl39wnM13PcC",
        "outputId": "e1683fd2-1b2b-4b14-dbcd-6c96456c662b",
        "colab": {
          "base_uri": "https://localhost:8080/"
        }
      },
      "execution_count": 11,
      "outputs": [
        {
          "output_type": "stream",
          "name": "stdout",
          "text": [
            "Number of cancelled products data 9251 1.7238712658928408 \n",
            "\n",
            "count     9251.000000\n",
            "mean       -29.787050\n",
            "std       1147.997592\n",
            "min     -80995.000000\n",
            "25%         -6.000000\n",
            "50%         -2.000000\n",
            "75%         -1.000000\n",
            "max         -1.000000\n",
            "Name: Quantity, dtype: float64\n"
          ]
        }
      ]
    },
    {
      "cell_type": "markdown",
      "source": [
        "This shows that quantity is negative when any order was cancelled. Removed cancellations data since they only make upto ~2% of data"
      ],
      "metadata": {
        "id": "nNWHPJ0Y3lK4"
      }
    },
    {
      "cell_type": "markdown",
      "source": [
        "**Analysis of UnitPrice variable**"
      ],
      "metadata": {
        "id": "fuw_q-gR3oZs"
      }
    },
    {
      "cell_type": "code",
      "source": [
        "print(\"Minimum UnitPrice\", min(data[\"UnitPrice\"]))\n",
        "print(\"Maximum UnitPrice\", max(data[\"UnitPrice\"]))\n",
        "data[\"UnitPrice\"].describe()"
      ],
      "metadata": {
        "id": "5B8X3jCs3gWA",
        "outputId": "7065872b-cd5e-4107-b61c-63f32bc0589b",
        "colab": {
          "base_uri": "https://localhost:8080/"
        }
      },
      "execution_count": 12,
      "outputs": [
        {
          "output_type": "stream",
          "name": "stdout",
          "text": [
            "Minimum UnitPrice -11062.06\n",
            "Maximum UnitPrice 13541.33\n"
          ]
        },
        {
          "output_type": "execute_result",
          "data": {
            "text/plain": [
              "count    527390.000000\n",
              "mean          3.861939\n",
              "std          41.963759\n",
              "min      -11062.060000\n",
              "25%           1.250000\n",
              "50%           2.080000\n",
              "75%           4.130000\n",
              "max       13541.330000\n",
              "Name: UnitPrice, dtype: float64"
            ]
          },
          "metadata": {},
          "execution_count": 12
        }
      ]
    },
    {
      "cell_type": "markdown",
      "source": [
        "checking cases where Price <0"
      ],
      "metadata": {
        "id": "-ESoVnGu3xqM"
      }
    },
    {
      "cell_type": "code",
      "source": [
        "data[data.UnitPrice<0]"
      ],
      "metadata": {
        "id": "8PxXuuGH3uDl",
        "outputId": "c1a86723-4dcf-49a3-d972-0f8398ae280e",
        "colab": {
          "base_uri": "https://localhost:8080/",
          "height": 112
        }
      },
      "execution_count": 13,
      "outputs": [
        {
          "output_type": "execute_result",
          "data": {
            "text/plain": [
              "       InvoiceNo StockCode      Description  Quantity         InvoiceDate  \\\n",
              "299983   A563186         B  Adjust bad debt         1 2011-08-12 14:51:00   \n",
              "299984   A563187         B  Adjust bad debt         1 2011-08-12 14:52:00   \n",
              "\n",
              "        UnitPrice  CustomerID         Country   NewID  cancellations  \n",
              "299983  -11062.06         NaN  United Kingdom  563186              0  \n",
              "299984  -11062.06         NaN  United Kingdom  563187              0  "
            ],
            "text/html": [
              "\n",
              "  <div id=\"df-c21212fd-baf4-4467-aeb6-bea757bbb856\">\n",
              "    <div class=\"colab-df-container\">\n",
              "      <div>\n",
              "<style scoped>\n",
              "    .dataframe tbody tr th:only-of-type {\n",
              "        vertical-align: middle;\n",
              "    }\n",
              "\n",
              "    .dataframe tbody tr th {\n",
              "        vertical-align: top;\n",
              "    }\n",
              "\n",
              "    .dataframe thead th {\n",
              "        text-align: right;\n",
              "    }\n",
              "</style>\n",
              "<table border=\"1\" class=\"dataframe\">\n",
              "  <thead>\n",
              "    <tr style=\"text-align: right;\">\n",
              "      <th></th>\n",
              "      <th>InvoiceNo</th>\n",
              "      <th>StockCode</th>\n",
              "      <th>Description</th>\n",
              "      <th>Quantity</th>\n",
              "      <th>InvoiceDate</th>\n",
              "      <th>UnitPrice</th>\n",
              "      <th>CustomerID</th>\n",
              "      <th>Country</th>\n",
              "      <th>NewID</th>\n",
              "      <th>cancellations</th>\n",
              "    </tr>\n",
              "  </thead>\n",
              "  <tbody>\n",
              "    <tr>\n",
              "      <th>299983</th>\n",
              "      <td>A563186</td>\n",
              "      <td>B</td>\n",
              "      <td>Adjust bad debt</td>\n",
              "      <td>1</td>\n",
              "      <td>2011-08-12 14:51:00</td>\n",
              "      <td>-11062.06</td>\n",
              "      <td>NaN</td>\n",
              "      <td>United Kingdom</td>\n",
              "      <td>563186</td>\n",
              "      <td>0</td>\n",
              "    </tr>\n",
              "    <tr>\n",
              "      <th>299984</th>\n",
              "      <td>A563187</td>\n",
              "      <td>B</td>\n",
              "      <td>Adjust bad debt</td>\n",
              "      <td>1</td>\n",
              "      <td>2011-08-12 14:52:00</td>\n",
              "      <td>-11062.06</td>\n",
              "      <td>NaN</td>\n",
              "      <td>United Kingdom</td>\n",
              "      <td>563187</td>\n",
              "      <td>0</td>\n",
              "    </tr>\n",
              "  </tbody>\n",
              "</table>\n",
              "</div>\n",
              "      <button class=\"colab-df-convert\" onclick=\"convertToInteractive('df-c21212fd-baf4-4467-aeb6-bea757bbb856')\"\n",
              "              title=\"Convert this dataframe to an interactive table.\"\n",
              "              style=\"display:none;\">\n",
              "        \n",
              "  <svg xmlns=\"http://www.w3.org/2000/svg\" height=\"24px\"viewBox=\"0 0 24 24\"\n",
              "       width=\"24px\">\n",
              "    <path d=\"M0 0h24v24H0V0z\" fill=\"none\"/>\n",
              "    <path d=\"M18.56 5.44l.94 2.06.94-2.06 2.06-.94-2.06-.94-.94-2.06-.94 2.06-2.06.94zm-11 1L8.5 8.5l.94-2.06 2.06-.94-2.06-.94L8.5 2.5l-.94 2.06-2.06.94zm10 10l.94 2.06.94-2.06 2.06-.94-2.06-.94-.94-2.06-.94 2.06-2.06.94z\"/><path d=\"M17.41 7.96l-1.37-1.37c-.4-.4-.92-.59-1.43-.59-.52 0-1.04.2-1.43.59L10.3 9.45l-7.72 7.72c-.78.78-.78 2.05 0 2.83L4 21.41c.39.39.9.59 1.41.59.51 0 1.02-.2 1.41-.59l7.78-7.78 2.81-2.81c.8-.78.8-2.07 0-2.86zM5.41 20L4 18.59l7.72-7.72 1.47 1.35L5.41 20z\"/>\n",
              "  </svg>\n",
              "      </button>\n",
              "      \n",
              "  <style>\n",
              "    .colab-df-container {\n",
              "      display:flex;\n",
              "      flex-wrap:wrap;\n",
              "      gap: 12px;\n",
              "    }\n",
              "\n",
              "    .colab-df-convert {\n",
              "      background-color: #E8F0FE;\n",
              "      border: none;\n",
              "      border-radius: 50%;\n",
              "      cursor: pointer;\n",
              "      display: none;\n",
              "      fill: #1967D2;\n",
              "      height: 32px;\n",
              "      padding: 0 0 0 0;\n",
              "      width: 32px;\n",
              "    }\n",
              "\n",
              "    .colab-df-convert:hover {\n",
              "      background-color: #E2EBFA;\n",
              "      box-shadow: 0px 1px 2px rgba(60, 64, 67, 0.3), 0px 1px 3px 1px rgba(60, 64, 67, 0.15);\n",
              "      fill: #174EA6;\n",
              "    }\n",
              "\n",
              "    [theme=dark] .colab-df-convert {\n",
              "      background-color: #3B4455;\n",
              "      fill: #D2E3FC;\n",
              "    }\n",
              "\n",
              "    [theme=dark] .colab-df-convert:hover {\n",
              "      background-color: #434B5C;\n",
              "      box-shadow: 0px 1px 3px 1px rgba(0, 0, 0, 0.15);\n",
              "      filter: drop-shadow(0px 1px 2px rgba(0, 0, 0, 0.3));\n",
              "      fill: #FFFFFF;\n",
              "    }\n",
              "  </style>\n",
              "\n",
              "      <script>\n",
              "        const buttonEl =\n",
              "          document.querySelector('#df-c21212fd-baf4-4467-aeb6-bea757bbb856 button.colab-df-convert');\n",
              "        buttonEl.style.display =\n",
              "          google.colab.kernel.accessAllowed ? 'block' : 'none';\n",
              "\n",
              "        async function convertToInteractive(key) {\n",
              "          const element = document.querySelector('#df-c21212fd-baf4-4467-aeb6-bea757bbb856');\n",
              "          const dataTable =\n",
              "            await google.colab.kernel.invokeFunction('convertToInteractive',\n",
              "                                                     [key], {});\n",
              "          if (!dataTable) return;\n",
              "\n",
              "          const docLinkHtml = 'Like what you see? Visit the ' +\n",
              "            '<a target=\"_blank\" href=https://colab.research.google.com/notebooks/data_table.ipynb>data table notebook</a>'\n",
              "            + ' to learn more about interactive tables.';\n",
              "          element.innerHTML = '';\n",
              "          dataTable['output_type'] = 'display_data';\n",
              "          await google.colab.output.renderOutput(dataTable, element);\n",
              "          const docLink = document.createElement('div');\n",
              "          docLink.innerHTML = docLinkHtml;\n",
              "          element.appendChild(docLink);\n",
              "        }\n",
              "      </script>\n",
              "    </div>\n",
              "  </div>\n",
              "  "
            ]
          },
          "metadata": {},
          "execution_count": 13
        }
      ]
    },
    {
      "cell_type": "markdown",
      "source": [
        "Removing these two cases"
      ],
      "metadata": {
        "id": "bwTC6-Ms3567"
      }
    },
    {
      "cell_type": "code",
      "source": [
        "data = data[data.UnitPrice >= 0]"
      ],
      "metadata": {
        "id": "3meWgwur313z"
      },
      "execution_count": 14,
      "outputs": []
    },
    {
      "cell_type": "markdown",
      "source": [
        "All rows where Price == 0"
      ],
      "metadata": {
        "id": "FSuiDMNj4AjA"
      }
    },
    {
      "cell_type": "code",
      "source": [
        "print(\"% of data with Price = 0: \", round(len(data[data.UnitPrice == 0]) * 100 / len(data),2),\"%\" )\n",
        "print(\"Count of unique Customer ID values \", data[data.UnitPrice == 0].CustomerID.nunique(), \"\\n\")\n",
        "data[data.UnitPrice == 0][~data.CustomerID.isnull()].head()"
      ],
      "metadata": {
        "id": "mOilpl0D3-F6",
        "outputId": "35ef2f4a-b5a5-450d-e312-0850e90e8746",
        "colab": {
          "base_uri": "https://localhost:8080/",
          "height": 258
        }
      },
      "execution_count": 15,
      "outputs": [
        {
          "output_type": "stream",
          "name": "stdout",
          "text": [
            "% of data with Price = 0:  0.48 %\n",
            "Count of unique Customer ID values  31 \n",
            "\n"
          ]
        },
        {
          "output_type": "execute_result",
          "data": {
            "text/plain": [
              "      InvoiceNo StockCode                   Description  Quantity  \\\n",
              "9302     537197     22841  ROUND CAKE TIN VINTAGE GREEN         1   \n",
              "33576    539263     22580  ADVENT CALENDAR GINGHAM SACK         4   \n",
              "40089    539722     22423      REGENCY CAKESTAND 3 TIER        10   \n",
              "47068    540372     22090       PAPER BUNTING RETROSPOT        24   \n",
              "47070    540372     22553        PLASTERS IN TIN SKULLS        24   \n",
              "\n",
              "              InvoiceDate  UnitPrice  CustomerID         Country   NewID  \\\n",
              "9302  2010-12-05 14:02:00        0.0     12647.0         Germany  126470   \n",
              "33576 2010-12-16 14:36:00        0.0     16560.0  United Kingdom  165600   \n",
              "40089 2010-12-21 13:45:00        0.0     14911.0            EIRE  149110   \n",
              "47068 2011-01-06 16:41:00        0.0     13081.0  United Kingdom  130810   \n",
              "47070 2011-01-06 16:41:00        0.0     13081.0  United Kingdom  130810   \n",
              "\n",
              "       cancellations  \n",
              "9302               0  \n",
              "33576              0  \n",
              "40089              0  \n",
              "47068              0  \n",
              "47070              0  "
            ],
            "text/html": [
              "\n",
              "  <div id=\"df-7438e82d-ddaa-47ff-85c2-2a0f586750d8\">\n",
              "    <div class=\"colab-df-container\">\n",
              "      <div>\n",
              "<style scoped>\n",
              "    .dataframe tbody tr th:only-of-type {\n",
              "        vertical-align: middle;\n",
              "    }\n",
              "\n",
              "    .dataframe tbody tr th {\n",
              "        vertical-align: top;\n",
              "    }\n",
              "\n",
              "    .dataframe thead th {\n",
              "        text-align: right;\n",
              "    }\n",
              "</style>\n",
              "<table border=\"1\" class=\"dataframe\">\n",
              "  <thead>\n",
              "    <tr style=\"text-align: right;\">\n",
              "      <th></th>\n",
              "      <th>InvoiceNo</th>\n",
              "      <th>StockCode</th>\n",
              "      <th>Description</th>\n",
              "      <th>Quantity</th>\n",
              "      <th>InvoiceDate</th>\n",
              "      <th>UnitPrice</th>\n",
              "      <th>CustomerID</th>\n",
              "      <th>Country</th>\n",
              "      <th>NewID</th>\n",
              "      <th>cancellations</th>\n",
              "    </tr>\n",
              "  </thead>\n",
              "  <tbody>\n",
              "    <tr>\n",
              "      <th>9302</th>\n",
              "      <td>537197</td>\n",
              "      <td>22841</td>\n",
              "      <td>ROUND CAKE TIN VINTAGE GREEN</td>\n",
              "      <td>1</td>\n",
              "      <td>2010-12-05 14:02:00</td>\n",
              "      <td>0.0</td>\n",
              "      <td>12647.0</td>\n",
              "      <td>Germany</td>\n",
              "      <td>126470</td>\n",
              "      <td>0</td>\n",
              "    </tr>\n",
              "    <tr>\n",
              "      <th>33576</th>\n",
              "      <td>539263</td>\n",
              "      <td>22580</td>\n",
              "      <td>ADVENT CALENDAR GINGHAM SACK</td>\n",
              "      <td>4</td>\n",
              "      <td>2010-12-16 14:36:00</td>\n",
              "      <td>0.0</td>\n",
              "      <td>16560.0</td>\n",
              "      <td>United Kingdom</td>\n",
              "      <td>165600</td>\n",
              "      <td>0</td>\n",
              "    </tr>\n",
              "    <tr>\n",
              "      <th>40089</th>\n",
              "      <td>539722</td>\n",
              "      <td>22423</td>\n",
              "      <td>REGENCY CAKESTAND 3 TIER</td>\n",
              "      <td>10</td>\n",
              "      <td>2010-12-21 13:45:00</td>\n",
              "      <td>0.0</td>\n",
              "      <td>14911.0</td>\n",
              "      <td>EIRE</td>\n",
              "      <td>149110</td>\n",
              "      <td>0</td>\n",
              "    </tr>\n",
              "    <tr>\n",
              "      <th>47068</th>\n",
              "      <td>540372</td>\n",
              "      <td>22090</td>\n",
              "      <td>PAPER BUNTING RETROSPOT</td>\n",
              "      <td>24</td>\n",
              "      <td>2011-01-06 16:41:00</td>\n",
              "      <td>0.0</td>\n",
              "      <td>13081.0</td>\n",
              "      <td>United Kingdom</td>\n",
              "      <td>130810</td>\n",
              "      <td>0</td>\n",
              "    </tr>\n",
              "    <tr>\n",
              "      <th>47070</th>\n",
              "      <td>540372</td>\n",
              "      <td>22553</td>\n",
              "      <td>PLASTERS IN TIN SKULLS</td>\n",
              "      <td>24</td>\n",
              "      <td>2011-01-06 16:41:00</td>\n",
              "      <td>0.0</td>\n",
              "      <td>13081.0</td>\n",
              "      <td>United Kingdom</td>\n",
              "      <td>130810</td>\n",
              "      <td>0</td>\n",
              "    </tr>\n",
              "  </tbody>\n",
              "</table>\n",
              "</div>\n",
              "      <button class=\"colab-df-convert\" onclick=\"convertToInteractive('df-7438e82d-ddaa-47ff-85c2-2a0f586750d8')\"\n",
              "              title=\"Convert this dataframe to an interactive table.\"\n",
              "              style=\"display:none;\">\n",
              "        \n",
              "  <svg xmlns=\"http://www.w3.org/2000/svg\" height=\"24px\"viewBox=\"0 0 24 24\"\n",
              "       width=\"24px\">\n",
              "    <path d=\"M0 0h24v24H0V0z\" fill=\"none\"/>\n",
              "    <path d=\"M18.56 5.44l.94 2.06.94-2.06 2.06-.94-2.06-.94-.94-2.06-.94 2.06-2.06.94zm-11 1L8.5 8.5l.94-2.06 2.06-.94-2.06-.94L8.5 2.5l-.94 2.06-2.06.94zm10 10l.94 2.06.94-2.06 2.06-.94-2.06-.94-.94-2.06-.94 2.06-2.06.94z\"/><path d=\"M17.41 7.96l-1.37-1.37c-.4-.4-.92-.59-1.43-.59-.52 0-1.04.2-1.43.59L10.3 9.45l-7.72 7.72c-.78.78-.78 2.05 0 2.83L4 21.41c.39.39.9.59 1.41.59.51 0 1.02-.2 1.41-.59l7.78-7.78 2.81-2.81c.8-.78.8-2.07 0-2.86zM5.41 20L4 18.59l7.72-7.72 1.47 1.35L5.41 20z\"/>\n",
              "  </svg>\n",
              "      </button>\n",
              "      \n",
              "  <style>\n",
              "    .colab-df-container {\n",
              "      display:flex;\n",
              "      flex-wrap:wrap;\n",
              "      gap: 12px;\n",
              "    }\n",
              "\n",
              "    .colab-df-convert {\n",
              "      background-color: #E8F0FE;\n",
              "      border: none;\n",
              "      border-radius: 50%;\n",
              "      cursor: pointer;\n",
              "      display: none;\n",
              "      fill: #1967D2;\n",
              "      height: 32px;\n",
              "      padding: 0 0 0 0;\n",
              "      width: 32px;\n",
              "    }\n",
              "\n",
              "    .colab-df-convert:hover {\n",
              "      background-color: #E2EBFA;\n",
              "      box-shadow: 0px 1px 2px rgba(60, 64, 67, 0.3), 0px 1px 3px 1px rgba(60, 64, 67, 0.15);\n",
              "      fill: #174EA6;\n",
              "    }\n",
              "\n",
              "    [theme=dark] .colab-df-convert {\n",
              "      background-color: #3B4455;\n",
              "      fill: #D2E3FC;\n",
              "    }\n",
              "\n",
              "    [theme=dark] .colab-df-convert:hover {\n",
              "      background-color: #434B5C;\n",
              "      box-shadow: 0px 1px 3px 1px rgba(0, 0, 0, 0.15);\n",
              "      filter: drop-shadow(0px 1px 2px rgba(0, 0, 0, 0.3));\n",
              "      fill: #FFFFFF;\n",
              "    }\n",
              "  </style>\n",
              "\n",
              "      <script>\n",
              "        const buttonEl =\n",
              "          document.querySelector('#df-7438e82d-ddaa-47ff-85c2-2a0f586750d8 button.colab-df-convert');\n",
              "        buttonEl.style.display =\n",
              "          google.colab.kernel.accessAllowed ? 'block' : 'none';\n",
              "\n",
              "        async function convertToInteractive(key) {\n",
              "          const element = document.querySelector('#df-7438e82d-ddaa-47ff-85c2-2a0f586750d8');\n",
              "          const dataTable =\n",
              "            await google.colab.kernel.invokeFunction('convertToInteractive',\n",
              "                                                     [key], {});\n",
              "          if (!dataTable) return;\n",
              "\n",
              "          const docLinkHtml = 'Like what you see? Visit the ' +\n",
              "            '<a target=\"_blank\" href=https://colab.research.google.com/notebooks/data_table.ipynb>data table notebook</a>'\n",
              "            + ' to learn more about interactive tables.';\n",
              "          element.innerHTML = '';\n",
              "          dataTable['output_type'] = 'display_data';\n",
              "          await google.colab.output.renderOutput(dataTable, element);\n",
              "          const docLink = document.createElement('div');\n",
              "          docLink.innerHTML = docLinkHtml;\n",
              "          element.appendChild(docLink);\n",
              "        }\n",
              "      </script>\n",
              "    </div>\n",
              "  </div>\n",
              "  "
            ]
          },
          "metadata": {},
          "execution_count": 15
        }
      ]
    },
    {
      "cell_type": "markdown",
      "source": [
        "% of data with Price = 0:  0.48 %\n",
        "Count of unique Customer ID values  31 "
      ],
      "metadata": {
        "id": "FibKAzrj4Jvp"
      }
    },
    {
      "cell_type": "code",
      "source": [
        "### Dropping Cases with UnitPrice = 0\n",
        "data_filtered = data[data.UnitPrice >0]\n",
        "data_filtered[\"UnitPrice\"].describe()"
      ],
      "metadata": {
        "id": "aj8HO_B74F_M",
        "outputId": "feb6753e-192b-450a-8567-6d4408433f90",
        "colab": {
          "base_uri": "https://localhost:8080/"
        }
      },
      "execution_count": 16,
      "outputs": [
        {
          "output_type": "execute_result",
          "data": {
            "text/plain": [
              "count    524878.000000\n",
              "mean          3.922573\n",
              "std          36.093028\n",
              "min           0.001000\n",
              "25%           1.250000\n",
              "50%           2.080000\n",
              "75%           4.130000\n",
              "max       13541.330000\n",
              "Name: UnitPrice, dtype: float64"
            ]
          },
          "metadata": {},
          "execution_count": 16
        }
      ]
    },
    {
      "cell_type": "code",
      "source": [
        "print(\"Minimum Quantity\", min(data_filtered[\"Quantity\"]))\n",
        "print(\"Maximum Quantity\", max(data_filtered[\"Quantity\"]))\n",
        "data_filtered[\"Quantity\"].describe()"
      ],
      "metadata": {
        "id": "OxgX23GJ4O89",
        "outputId": "c6307528-339e-45df-a195-93530c6028d1",
        "colab": {
          "base_uri": "https://localhost:8080/"
        }
      },
      "execution_count": 17,
      "outputs": [
        {
          "output_type": "stream",
          "name": "stdout",
          "text": [
            "Minimum Quantity 1\n",
            "Maximum Quantity 80995\n"
          ]
        },
        {
          "output_type": "execute_result",
          "data": {
            "text/plain": [
              "count    524878.000000\n",
              "mean         10.616600\n",
              "std         156.280031\n",
              "min           1.000000\n",
              "25%           1.000000\n",
              "50%           4.000000\n",
              "75%          11.000000\n",
              "max       80995.000000\n",
              "Name: Quantity, dtype: float64"
            ]
          },
          "metadata": {},
          "execution_count": 17
        }
      ]
    },
    {
      "cell_type": "markdown",
      "source": [
        "**Customer and total revenue split wrto country**"
      ],
      "metadata": {
        "id": "4S-lvOfb5_SX"
      }
    },
    {
      "cell_type": "code",
      "source": [
        "### Adding Monetary information by calculating total value of transaction by multiplying unit price and quantity of the product\n",
        "data_filtered[\"Total_sales\"] = data_filtered[\"UnitPrice\"]*data_filtered[\"Quantity\"]\n",
        "\n",
        "### Creating Country Level grouping to find Unique Customer count and %\n",
        "country_customer_df = data_filtered.groupby(\"Country\")[\"CustomerID\"].nunique().reset_index().rename(columns = \\\n",
        "                                                                                           {\"CustomerID\":\"count_CustomerID\"})\n",
        "country_customer_df[\"customer_%\"] = round(country_customer_df[\"count_CustomerID\"]*\\\n",
        "                                          100/country_customer_df[\"count_CustomerID\"].sum(),2)\n",
        "\n",
        "### Creating Country Level grouping to find total revenue and %\n",
        "country_df = data_filtered.groupby(\"Country\")[\"Total_sales\"].sum().reset_index()\n",
        "country_df[\"Total_sales%\"] = round(country_df[\"Total_sales\"]*100/country_df[\"Total_sales\"].sum(),2)"
      ],
      "metadata": {
        "id": "VExiqqpw57J6"
      },
      "execution_count": 18,
      "outputs": []
    },
    {
      "cell_type": "code",
      "source": [
        "country_customer_df = country_customer_df.sort_values(by = \"customer_%\", ascending = False)\n",
        "fig, ax = plt.subplots(figsize=(10,4),dpi=100)\n",
        "ax=sns.barplot(x=country_customer_df[\"Country\"], y=country_customer_df['customer_%'])\n",
        "ax.set_xticklabels(ax.get_xticklabels(), rotation=50, ha=\"right\")\n",
        "plt.show()\n",
        "\n",
        "country_df = country_df.sort_values(by = \"Total_sales%\", ascending = False)\n",
        "fig, ax = plt.subplots(figsize=(10,4),dpi=100)\n",
        "ax=sns.barplot(x=country_df[\"Country\"], y=country_df['Total_sales%'])\n",
        "ax.set_xticklabels(ax.get_xticklabels(), rotation=50, ha=\"right\")\n",
        "plt.show()"
      ],
      "metadata": {
        "id": "Q97dr2bF6Ykw",
        "outputId": "f28d5376-4540-4452-b919-bde5f5b53a34",
        "colab": {
          "base_uri": "https://localhost:8080/",
          "height": 967
        }
      },
      "execution_count": 19,
      "outputs": [
        {
          "output_type": "display_data",
          "data": {
            "text/plain": [
              "<Figure size 1000x400 with 1 Axes>"
            ],
            "image/png": "[encoded data removed]"
          },
          "metadata": {
            "needs_background": "light"
          }
        },
        {
          "output_type": "display_data",
          "data": {
            "text/plain": [
              "<Figure size 1000x400 with 1 Axes>"
            ],
            "image/png": "[encoded data removed]"
          },
          "metadata": {
            "needs_background": "light"
          }
        }
      ]
    },
    {
      "cell_type": "markdown",
      "source": [
        "The United Kingdom not only has the most sales revenue, but also the most customers. Therefore, for the purpose of this analysis, I will be taking data corresponding to orders from the United Kingdom."
      ],
      "metadata": {
        "id": "B409NjCN6hQj"
      }
    },
    {
      "cell_type": "code",
      "source": [
        "uk_df = data_filtered[data_filtered.Country == \"United Kingdom\"]\n",
        "uk_df.info()"
      ],
      "metadata": {
        "id": "pfk_09d-6cIl",
        "outputId": "7a3f7893-6950-4f39-f5f6-0323fb41f8c5",
        "colab": {
          "base_uri": "https://localhost:8080/"
        }
      },
      "execution_count": 20,
      "outputs": [
        {
          "output_type": "stream",
          "name": "stdout",
          "text": [
            "<class 'pandas.core.frame.DataFrame'>\n",
            "Int64Index: 479985 entries, 0 to 541893\n",
            "Data columns (total 11 columns):\n",
            " #   Column         Non-Null Count   Dtype         \n",
            "---  ------         --------------   -----         \n",
            " 0   InvoiceNo      479985 non-null  object        \n",
            " 1   StockCode      479985 non-null  object        \n",
            " 2   Description    479985 non-null  object        \n",
            " 3   Quantity       479985 non-null  int64         \n",
            " 4   InvoiceDate    479985 non-null  datetime64[ns]\n",
            " 5   UnitPrice      479985 non-null  float64       \n",
            " 6   CustomerID     349203 non-null  float64       \n",
            " 7   Country        479985 non-null  object        \n",
            " 8   NewID          479985 non-null  int64         \n",
            " 9   cancellations  479985 non-null  int64         \n",
            " 10  Total_sales    479985 non-null  float64       \n",
            "dtypes: datetime64[ns](1), float64(3), int64(3), object(4)\n",
            "memory usage: 43.9+ MB\n"
          ]
        }
      ]
    },
    {
      "cell_type": "markdown",
      "source": [
        "Checking Most popular products in United Kingdom"
      ],
      "metadata": {
        "id": "eV__vBfY6pJw"
      }
    },
    {
      "cell_type": "code",
      "source": [
        "uk_product = uk_df.groupby(['StockCode','Description'],as_index= False)['Quantity'].sum().sort_values(by='Quantity', \\\n",
        "                                                                                                      ascending=False)\n",
        "uk_product.head(5)"
      ],
      "metadata": {
        "id": "6YjGH2RG6ljf",
        "colab": {
          "base_uri": "https://localhost:8080/",
          "height": 206
        },
        "outputId": "7ab8d75e-a22d-4ff5-d738-bf51664fd4c6"
      },
      "execution_count": 21,
      "outputs": [
        {
          "output_type": "execute_result",
          "data": {
            "text/plain": [
              "     StockCode                         Description  Quantity\n",
              "2653     23843         PAPER CRAFT , LITTLE BIRDIE     80995\n",
              "2112     23166      MEDIUM CERAMIC TOP STORAGE JAR     77036\n",
              "3113     84077   WORLD WAR 2 GLIDERS ASSTD DESIGNS     49430\n",
              "3601    85099B             JUMBO BAG RED RETROSPOT     44161\n",
              "3622    85123A  WHITE HANGING HEART T-LIGHT HOLDER     35430"
            ],
            "text/html": [
              "\n",
              "  <div id=\"df-9d77db83-e64e-4ddd-8986-8a58f847cfb6\">\n",
              "    <div class=\"colab-df-container\">\n",
              "      <div>\n",
              "<style scoped>\n",
              "    .dataframe tbody tr th:only-of-type {\n",
              "        vertical-align: middle;\n",
              "    }\n",
              "\n",
              "    .dataframe tbody tr th {\n",
              "        vertical-align: top;\n",
              "    }\n",
              "\n",
              "    .dataframe thead th {\n",
              "        text-align: right;\n",
              "    }\n",
              "</style>\n",
              "<table border=\"1\" class=\"dataframe\">\n",
              "  <thead>\n",
              "    <tr style=\"text-align: right;\">\n",
              "      <th></th>\n",
              "      <th>StockCode</th>\n",
              "      <th>Description</th>\n",
              "      <th>Quantity</th>\n",
              "    </tr>\n",
              "  </thead>\n",
              "  <tbody>\n",
              "    <tr>\n",
              "      <th>2653</th>\n",
              "      <td>23843</td>\n",
              "      <td>PAPER CRAFT , LITTLE BIRDIE</td>\n",
              "      <td>80995</td>\n",
              "    </tr>\n",
              "    <tr>\n",
              "      <th>2112</th>\n",
              "      <td>23166</td>\n",
              "      <td>MEDIUM CERAMIC TOP STORAGE JAR</td>\n",
              "      <td>77036</td>\n",
              "    </tr>\n",
              "    <tr>\n",
              "      <th>3113</th>\n",
              "      <td>84077</td>\n",
              "      <td>WORLD WAR 2 GLIDERS ASSTD DESIGNS</td>\n",
              "      <td>49430</td>\n",
              "    </tr>\n",
              "    <tr>\n",
              "      <th>3601</th>\n",
              "      <td>85099B</td>\n",
              "      <td>JUMBO BAG RED RETROSPOT</td>\n",
              "      <td>44161</td>\n",
              "    </tr>\n",
              "    <tr>\n",
              "      <th>3622</th>\n",
              "      <td>85123A</td>\n",
              "      <td>WHITE HANGING HEART T-LIGHT HOLDER</td>\n",
              "      <td>35430</td>\n",
              "    </tr>\n",
              "  </tbody>\n",
              "</table>\n",
              "</div>\n",
              "      <button class=\"colab-df-convert\" onclick=\"convertToInteractive('df-9d77db83-e64e-4ddd-8986-8a58f847cfb6')\"\n",
              "              title=\"Convert this dataframe to an interactive table.\"\n",
              "              style=\"display:none;\">\n",
              "        \n",
              "  <svg xmlns=\"http://www.w3.org/2000/svg\" height=\"24px\"viewBox=\"0 0 24 24\"\n",
              "       width=\"24px\">\n",
              "    <path d=\"M0 0h24v24H0V0z\" fill=\"none\"/>\n",
              "    <path d=\"M18.56 5.44l.94 2.06.94-2.06 2.06-.94-2.06-.94-.94-2.06-.94 2.06-2.06.94zm-11 1L8.5 8.5l.94-2.06 2.06-.94-2.06-.94L8.5 2.5l-.94 2.06-2.06.94zm10 10l.94 2.06.94-2.06 2.06-.94-2.06-.94-.94-2.06-.94 2.06-2.06.94z\"/><path d=\"M17.41 7.96l-1.37-1.37c-.4-.4-.92-.59-1.43-.59-.52 0-1.04.2-1.43.59L10.3 9.45l-7.72 7.72c-.78.78-.78 2.05 0 2.83L4 21.41c.39.39.9.59 1.41.59.51 0 1.02-.2 1.41-.59l7.78-7.78 2.81-2.81c.8-.78.8-2.07 0-2.86zM5.41 20L4 18.59l7.72-7.72 1.47 1.35L5.41 20z\"/>\n",
              "  </svg>\n",
              "      </button>\n",
              "      \n",
              "  <style>\n",
              "    .colab-df-container {\n",
              "      display:flex;\n",
              "      flex-wrap:wrap;\n",
              "      gap: 12px;\n",
              "    }\n",
              "\n",
              "    .colab-df-convert {\n",
              "      background-color: #E8F0FE;\n",
              "      border: none;\n",
              "      border-radius: 50%;\n",
              "      cursor: pointer;\n",
              "      display: none;\n",
              "      fill: #1967D2;\n",
              "      height: 32px;\n",
              "      padding: 0 0 0 0;\n",
              "      width: 32px;\n",
              "    }\n",
              "\n",
              "    .colab-df-convert:hover {\n",
              "      background-color: #E2EBFA;\n",
              "      box-shadow: 0px 1px 2px rgba(60, 64, 67, 0.3), 0px 1px 3px 1px rgba(60, 64, 67, 0.15);\n",
              "      fill: #174EA6;\n",
              "    }\n",
              "\n",
              "    [theme=dark] .colab-df-convert {\n",
              "      background-color: #3B4455;\n",
              "      fill: #D2E3FC;\n",
              "    }\n",
              "\n",
              "    [theme=dark] .colab-df-convert:hover {\n",
              "      background-color: #434B5C;\n",
              "      box-shadow: 0px 1px 3px 1px rgba(0, 0, 0, 0.15);\n",
              "      filter: drop-shadow(0px 1px 2px rgba(0, 0, 0, 0.3));\n",
              "      fill: #FFFFFF;\n",
              "    }\n",
              "  </style>\n",
              "\n",
              "      <script>\n",
              "        const buttonEl =\n",
              "          document.querySelector('#df-9d77db83-e64e-4ddd-8986-8a58f847cfb6 button.colab-df-convert');\n",
              "        buttonEl.style.display =\n",
              "          google.colab.kernel.accessAllowed ? 'block' : 'none';\n",
              "\n",
              "        async function convertToInteractive(key) {\n",
              "          const element = document.querySelector('#df-9d77db83-e64e-4ddd-8986-8a58f847cfb6');\n",
              "          const dataTable =\n",
              "            await google.colab.kernel.invokeFunction('convertToInteractive',\n",
              "                                                     [key], {});\n",
              "          if (!dataTable) return;\n",
              "\n",
              "          const docLinkHtml = 'Like what you see? Visit the ' +\n",
              "            '<a target=\"_blank\" href=https://colab.research.google.com/notebooks/data_table.ipynb>data table notebook</a>'\n",
              "            + ' to learn more about interactive tables.';\n",
              "          element.innerHTML = '';\n",
              "          dataTable['output_type'] = 'display_data';\n",
              "          await google.colab.output.renderOutput(dataTable, element);\n",
              "          const docLink = document.createElement('div');\n",
              "          docLink.innerHTML = docLinkHtml;\n",
              "          element.appendChild(docLink);\n",
              "        }\n",
              "      </script>\n",
              "    </div>\n",
              "  </div>\n",
              "  "
            ]
          },
          "metadata": {},
          "execution_count": 21
        }
      ]
    },
    {
      "cell_type": "code",
      "source": [
        "#Find the unique number of InvoiceNo  per customer for analysis of United Kingdom \n",
        "groupby_customers = pd.DataFrame(uk_df.groupby('NewID')['InvoiceNo'].nunique())\n",
        "groupby_customers.describe()"
      ],
      "metadata": {
        "colab": {
          "base_uri": "https://localhost:8080/",
          "height": 300
        },
        "id": "-6l0w9sU7VB2",
        "outputId": "92e80911-bc0b-4efd-a4f2-54b7daffe48b"
      },
      "execution_count": 22,
      "outputs": [
        {
          "output_type": "execute_result",
          "data": {
            "text/plain": [
              "         InvoiceNo\n",
              "count  5293.000000\n",
              "mean      3.404308\n",
              "std       6.356634\n",
              "min       1.000000\n",
              "25%       1.000000\n",
              "50%       1.000000\n",
              "75%       4.000000\n",
              "max     209.000000"
            ],
            "text/html": [
              "\n",
              "  <div id=\"df-983eb55e-67c4-45c5-bd78-df6f8cf6fd8b\">\n",
              "    <div class=\"colab-df-container\">\n",
              "      <div>\n",
              "<style scoped>\n",
              "    .dataframe tbody tr th:only-of-type {\n",
              "        vertical-align: middle;\n",
              "    }\n",
              "\n",
              "    .dataframe tbody tr th {\n",
              "        vertical-align: top;\n",
              "    }\n",
              "\n",
              "    .dataframe thead th {\n",
              "        text-align: right;\n",
              "    }\n",
              "</style>\n",
              "<table border=\"1\" class=\"dataframe\">\n",
              "  <thead>\n",
              "    <tr style=\"text-align: right;\">\n",
              "      <th></th>\n",
              "      <th>InvoiceNo</th>\n",
              "    </tr>\n",
              "  </thead>\n",
              "  <tbody>\n",
              "    <tr>\n",
              "      <th>count</th>\n",
              "      <td>5293.000000</td>\n",
              "    </tr>\n",
              "    <tr>\n",
              "      <th>mean</th>\n",
              "      <td>3.404308</td>\n",
              "    </tr>\n",
              "    <tr>\n",
              "      <th>std</th>\n",
              "      <td>6.356634</td>\n",
              "    </tr>\n",
              "    <tr>\n",
              "      <th>min</th>\n",
              "      <td>1.000000</td>\n",
              "    </tr>\n",
              "    <tr>\n",
              "      <th>25%</th>\n",
              "      <td>1.000000</td>\n",
              "    </tr>\n",
              "    <tr>\n",
              "      <th>50%</th>\n",
              "      <td>1.000000</td>\n",
              "    </tr>\n",
              "    <tr>\n",
              "      <th>75%</th>\n",
              "      <td>4.000000</td>\n",
              "    </tr>\n",
              "    <tr>\n",
              "      <th>max</th>\n",
              "      <td>209.000000</td>\n",
              "    </tr>\n",
              "  </tbody>\n",
              "</table>\n",
              "</div>\n",
              "      <button class=\"colab-df-convert\" onclick=\"convertToInteractive('df-983eb55e-67c4-45c5-bd78-df6f8cf6fd8b')\"\n",
              "              title=\"Convert this dataframe to an interactive table.\"\n",
              "              style=\"display:none;\">\n",
              "        \n",
              "  <svg xmlns=\"http://www.w3.org/2000/svg\" height=\"24px\"viewBox=\"0 0 24 24\"\n",
              "       width=\"24px\">\n",
              "    <path d=\"M0 0h24v24H0V0z\" fill=\"none\"/>\n",
              "    <path d=\"M18.56 5.44l.94 2.06.94-2.06 2.06-.94-2.06-.94-.94-2.06-.94 2.06-2.06.94zm-11 1L8.5 8.5l.94-2.06 2.06-.94-2.06-.94L8.5 2.5l-.94 2.06-2.06.94zm10 10l.94 2.06.94-2.06 2.06-.94-2.06-.94-.94-2.06-.94 2.06-2.06.94z\"/><path d=\"M17.41 7.96l-1.37-1.37c-.4-.4-.92-.59-1.43-.59-.52 0-1.04.2-1.43.59L10.3 9.45l-7.72 7.72c-.78.78-.78 2.05 0 2.83L4 21.41c.39.39.9.59 1.41.59.51 0 1.02-.2 1.41-.59l7.78-7.78 2.81-2.81c.8-.78.8-2.07 0-2.86zM5.41 20L4 18.59l7.72-7.72 1.47 1.35L5.41 20z\"/>\n",
              "  </svg>\n",
              "      </button>\n",
              "      \n",
              "  <style>\n",
              "    .colab-df-container {\n",
              "      display:flex;\n",
              "      flex-wrap:wrap;\n",
              "      gap: 12px;\n",
              "    }\n",
              "\n",
              "    .colab-df-convert {\n",
              "      background-color: #E8F0FE;\n",
              "      border: none;\n",
              "      border-radius: 50%;\n",
              "      cursor: pointer;\n",
              "      display: none;\n",
              "      fill: #1967D2;\n",
              "      height: 32px;\n",
              "      padding: 0 0 0 0;\n",
              "      width: 32px;\n",
              "    }\n",
              "\n",
              "    .colab-df-convert:hover {\n",
              "      background-color: #E2EBFA;\n",
              "      box-shadow: 0px 1px 2px rgba(60, 64, 67, 0.3), 0px 1px 3px 1px rgba(60, 64, 67, 0.15);\n",
              "      fill: #174EA6;\n",
              "    }\n",
              "\n",
              "    [theme=dark] .colab-df-convert {\n",
              "      background-color: #3B4455;\n",
              "      fill: #D2E3FC;\n",
              "    }\n",
              "\n",
              "    [theme=dark] .colab-df-convert:hover {\n",
              "      background-color: #434B5C;\n",
              "      box-shadow: 0px 1px 3px 1px rgba(0, 0, 0, 0.15);\n",
              "      filter: drop-shadow(0px 1px 2px rgba(0, 0, 0, 0.3));\n",
              "      fill: #FFFFFF;\n",
              "    }\n",
              "  </style>\n",
              "\n",
              "      <script>\n",
              "        const buttonEl =\n",
              "          document.querySelector('#df-983eb55e-67c4-45c5-bd78-df6f8cf6fd8b button.colab-df-convert');\n",
              "        buttonEl.style.display =\n",
              "          google.colab.kernel.accessAllowed ? 'block' : 'none';\n",
              "\n",
              "        async function convertToInteractive(key) {\n",
              "          const element = document.querySelector('#df-983eb55e-67c4-45c5-bd78-df6f8cf6fd8b');\n",
              "          const dataTable =\n",
              "            await google.colab.kernel.invokeFunction('convertToInteractive',\n",
              "                                                     [key], {});\n",
              "          if (!dataTable) return;\n",
              "\n",
              "          const docLinkHtml = 'Like what you see? Visit the ' +\n",
              "            '<a target=\"_blank\" href=https://colab.research.google.com/notebooks/data_table.ipynb>data table notebook</a>'\n",
              "            + ' to learn more about interactive tables.';\n",
              "          element.innerHTML = '';\n",
              "          dataTable['output_type'] = 'display_data';\n",
              "          await google.colab.output.renderOutput(dataTable, element);\n",
              "          const docLink = document.createElement('div');\n",
              "          docLink.innerHTML = docLinkHtml;\n",
              "          element.appendChild(docLink);\n",
              "        }\n",
              "      </script>\n",
              "    </div>\n",
              "  </div>\n",
              "  "
            ]
          },
          "metadata": {},
          "execution_count": 22
        }
      ]
    },
    {
      "cell_type": "code",
      "source": [
        "#Find the unique number of products per Order\n",
        "groupby_invoice = pd.DataFrame(uk_df.groupby('InvoiceNo')['StockCode'].nunique())\n",
        "groupby_invoice.columns = ['Number of products per Order']\n",
        "groupby_invoice.describe()"
      ],
      "metadata": {
        "id": "lwIGsva4-B5K",
        "colab": {
          "base_uri": "https://localhost:8080/",
          "height": 300
        },
        "outputId": "38252dba-420d-4884-b324-ad3a81db9e6f"
      },
      "execution_count": 23,
      "outputs": [
        {
          "output_type": "execute_result",
          "data": {
            "text/plain": [
              "       Number of products per Order\n",
              "count                  18019.000000\n",
              "mean                      26.351129\n",
              "std                       48.882851\n",
              "min                        1.000000\n",
              "25%                        6.000000\n",
              "50%                       15.000000\n",
              "75%                       29.000000\n",
              "max                     1110.000000"
            ],
            "text/html": [
              "\n",
              "  <div id=\"df-f6a8267f-4bbb-48de-9b37-0d3d132be927\">\n",
              "    <div class=\"colab-df-container\">\n",
              "      <div>\n",
              "<style scoped>\n",
              "    .dataframe tbody tr th:only-of-type {\n",
              "        vertical-align: middle;\n",
              "    }\n",
              "\n",
              "    .dataframe tbody tr th {\n",
              "        vertical-align: top;\n",
              "    }\n",
              "\n",
              "    .dataframe thead th {\n",
              "        text-align: right;\n",
              "    }\n",
              "</style>\n",
              "<table border=\"1\" class=\"dataframe\">\n",
              "  <thead>\n",
              "    <tr style=\"text-align: right;\">\n",
              "      <th></th>\n",
              "      <th>Number of products per Order</th>\n",
              "    </tr>\n",
              "  </thead>\n",
              "  <tbody>\n",
              "    <tr>\n",
              "      <th>count</th>\n",
              "      <td>18019.000000</td>\n",
              "    </tr>\n",
              "    <tr>\n",
              "      <th>mean</th>\n",
              "      <td>26.351129</td>\n",
              "    </tr>\n",
              "    <tr>\n",
              "      <th>std</th>\n",
              "      <td>48.882851</td>\n",
              "    </tr>\n",
              "    <tr>\n",
              "      <th>min</th>\n",
              "      <td>1.000000</td>\n",
              "    </tr>\n",
              "    <tr>\n",
              "      <th>25%</th>\n",
              "      <td>6.000000</td>\n",
              "    </tr>\n",
              "    <tr>\n",
              "      <th>50%</th>\n",
              "      <td>15.000000</td>\n",
              "    </tr>\n",
              "    <tr>\n",
              "      <th>75%</th>\n",
              "      <td>29.000000</td>\n",
              "    </tr>\n",
              "    <tr>\n",
              "      <th>max</th>\n",
              "      <td>1110.000000</td>\n",
              "    </tr>\n",
              "  </tbody>\n",
              "</table>\n",
              "</div>\n",
              "      <button class=\"colab-df-convert\" onclick=\"convertToInteractive('df-f6a8267f-4bbb-48de-9b37-0d3d132be927')\"\n",
              "              title=\"Convert this dataframe to an interactive table.\"\n",
              "              style=\"display:none;\">\n",
              "        \n",
              "  <svg xmlns=\"http://www.w3.org/2000/svg\" height=\"24px\"viewBox=\"0 0 24 24\"\n",
              "       width=\"24px\">\n",
              "    <path d=\"M0 0h24v24H0V0z\" fill=\"none\"/>\n",
              "    <path d=\"M18.56 5.44l.94 2.06.94-2.06 2.06-.94-2.06-.94-.94-2.06-.94 2.06-2.06.94zm-11 1L8.5 8.5l.94-2.06 2.06-.94-2.06-.94L8.5 2.5l-.94 2.06-2.06.94zm10 10l.94 2.06.94-2.06 2.06-.94-2.06-.94-.94-2.06-.94 2.06-2.06.94z\"/><path d=\"M17.41 7.96l-1.37-1.37c-.4-.4-.92-.59-1.43-.59-.52 0-1.04.2-1.43.59L10.3 9.45l-7.72 7.72c-.78.78-.78 2.05 0 2.83L4 21.41c.39.39.9.59 1.41.59.51 0 1.02-.2 1.41-.59l7.78-7.78 2.81-2.81c.8-.78.8-2.07 0-2.86zM5.41 20L4 18.59l7.72-7.72 1.47 1.35L5.41 20z\"/>\n",
              "  </svg>\n",
              "      </button>\n",
              "      \n",
              "  <style>\n",
              "    .colab-df-container {\n",
              "      display:flex;\n",
              "      flex-wrap:wrap;\n",
              "      gap: 12px;\n",
              "    }\n",
              "\n",
              "    .colab-df-convert {\n",
              "      background-color: #E8F0FE;\n",
              "      border: none;\n",
              "      border-radius: 50%;\n",
              "      cursor: pointer;\n",
              "      display: none;\n",
              "      fill: #1967D2;\n",
              "      height: 32px;\n",
              "      padding: 0 0 0 0;\n",
              "      width: 32px;\n",
              "    }\n",
              "\n",
              "    .colab-df-convert:hover {\n",
              "      background-color: #E2EBFA;\n",
              "      box-shadow: 0px 1px 2px rgba(60, 64, 67, 0.3), 0px 1px 3px 1px rgba(60, 64, 67, 0.15);\n",
              "      fill: #174EA6;\n",
              "    }\n",
              "\n",
              "    [theme=dark] .colab-df-convert {\n",
              "      background-color: #3B4455;\n",
              "      fill: #D2E3FC;\n",
              "    }\n",
              "\n",
              "    [theme=dark] .colab-df-convert:hover {\n",
              "      background-color: #434B5C;\n",
              "      box-shadow: 0px 1px 3px 1px rgba(0, 0, 0, 0.15);\n",
              "      filter: drop-shadow(0px 1px 2px rgba(0, 0, 0, 0.3));\n",
              "      fill: #FFFFFF;\n",
              "    }\n",
              "  </style>\n",
              "\n",
              "      <script>\n",
              "        const buttonEl =\n",
              "          document.querySelector('#df-f6a8267f-4bbb-48de-9b37-0d3d132be927 button.colab-df-convert');\n",
              "        buttonEl.style.display =\n",
              "          google.colab.kernel.accessAllowed ? 'block' : 'none';\n",
              "\n",
              "        async function convertToInteractive(key) {\n",
              "          const element = document.querySelector('#df-f6a8267f-4bbb-48de-9b37-0d3d132be927');\n",
              "          const dataTable =\n",
              "            await google.colab.kernel.invokeFunction('convertToInteractive',\n",
              "                                                     [key], {});\n",
              "          if (!dataTable) return;\n",
              "\n",
              "          const docLinkHtml = 'Like what you see? Visit the ' +\n",
              "            '<a target=\"_blank\" href=https://colab.research.google.com/notebooks/data_table.ipynb>data table notebook</a>'\n",
              "            + ' to learn more about interactive tables.';\n",
              "          element.innerHTML = '';\n",
              "          dataTable['output_type'] = 'display_data';\n",
              "          await google.colab.output.renderOutput(dataTable, element);\n",
              "          const docLink = document.createElement('div');\n",
              "          docLink.innerHTML = docLinkHtml;\n",
              "          element.appendChild(docLink);\n",
              "        }\n",
              "      </script>\n",
              "    </div>\n",
              "  </div>\n",
              "  "
            ]
          },
          "metadata": {},
          "execution_count": 23
        }
      ]
    },
    {
      "cell_type": "markdown",
      "source": [
        "\n",
        "The average number of orders per customer is 1 and average number of products per Order is 15"
      ],
      "metadata": {
        "id": "0AO-Vq96CrGF"
      }
    },
    {
      "cell_type": "markdown",
      "source": [
        "**RFM Segmentation**"
      ],
      "metadata": {
        "id": "ONWoCcI9Cve6"
      }
    },
    {
      "cell_type": "markdown",
      "source": [
        "RFM is a data modeling method used to analyze customer value. It stands for recency, frequency, and monetary, which are just three metrics that describe what your customers did.\n",
        "\n",
        "Recency (R) of a customer: Days since the last purchase.\n",
        "\n",
        "Frequency (F) of the bookings/turnover of a customer: Number of purchases, e.g., in 6 months.\n",
        "\n",
        "Monetary (M) - The total turnover of a customer: Sum of sales, e.g., in 6 months.\n",
        "\n",
        "For the analysis, we need to define a ‘analysis date’, which is the day on which we are conducting this analysis which I am taking as the next to last date in data and taking 1 year previous data from the selected date for recency calculation"
      ],
      "metadata": {
        "id": "XruY7yvfC5PQ"
      }
    },
    {
      "cell_type": "code",
      "source": [
        "analysis_date = uk_df[\"InvoiceDate\"].max() + pd.DateOffset(1)\n",
        "print(\"RFM Analysis Date :\", analysis_date)\n",
        "\n",
        "start_date = analysis_date - pd.DateOffset(days = 365)\n",
        "print(\"Start Date when taking 1 year data for analysis :\", start_date)"
      ],
      "metadata": {
        "id": "iWAN7qYPCpmm",
        "outputId": "cb6f0b6d-2ea7-40f7-867d-f7a433ddb099",
        "colab": {
          "base_uri": "https://localhost:8080/"
        }
      },
      "execution_count": 24,
      "outputs": [
        {
          "output_type": "stream",
          "name": "stdout",
          "text": [
            "RFM Analysis Date : 2011-12-10 12:49:00\n",
            "Start Date when taking 1 year data for analysis : 2010-12-10 12:49:00\n"
          ]
        }
      ]
    },
    {
      "cell_type": "markdown",
      "source": [
        "Although, I created column to deal with CustomerID Nulls (NewID), I will now drop rows with Nulls as customerID since these fake customer ID's would skew the analysis, especially the frequency. Aggregating Remaining dataset to calculate recency, frequency and monetary value columns for every customerID"
      ],
      "metadata": {
        "id": "b50L2_7VDPEj"
      }
    },
    {
      "cell_type": "code",
      "source": [
        "### Drop Nulls in CUstomerID\n",
        "uk_df = uk_df[~uk_df.CustomerID.isnull()]\n",
        "\n",
        "# Aggregate data on a customer level to get RFM values\n",
        "data_rfm = uk_df[uk_df.InvoiceDate >= start_date].groupby(['NewID'],as_index=False).agg({'InvoiceDate': lambda x: (analysis_date - x.max()).days,\n",
        "'InvoiceNo': 'count','Total_sales': 'sum'}).rename(columns = {'InvoiceDate': 'Recency', \\\n",
        "                                            'InvoiceNo': 'Frequency','Total_sales': 'Monetary'})\n",
        "data_rfm.head()"
      ],
      "metadata": {
        "id": "iE4uGUeTDM3V",
        "outputId": "b143f2d0-5893-4e63-9d91-33bf0fbb0550",
        "colab": {
          "base_uri": "https://localhost:8080/",
          "height": 206
        }
      },
      "execution_count": 25,
      "outputs": [
        {
          "output_type": "execute_result",
          "data": {
            "text/plain": [
              "    NewID  Recency  Frequency  Monetary\n",
              "0  123460      326          1  77183.60\n",
              "1  127470        2         96   3837.45\n",
              "2  127480        1       3899  30298.80\n",
              "3  127490        4        199   4090.88\n",
              "4  128200        3         59    942.34"
            ],
            "text/html": [
              "\n",
              "  <div id=\"df-1d701c27-ee5f-47f2-bf61-8244f8557dfb\">\n",
              "    <div class=\"colab-df-container\">\n",
              "      <div>\n",
              "<style scoped>\n",
              "    .dataframe tbody tr th:only-of-type {\n",
              "        vertical-align: middle;\n",
              "    }\n",
              "\n",
              "    .dataframe tbody tr th {\n",
              "        vertical-align: top;\n",
              "    }\n",
              "\n",
              "    .dataframe thead th {\n",
              "        text-align: right;\n",
              "    }\n",
              "</style>\n",
              "<table border=\"1\" class=\"dataframe\">\n",
              "  <thead>\n",
              "    <tr style=\"text-align: right;\">\n",
              "      <th></th>\n",
              "      <th>NewID</th>\n",
              "      <th>Recency</th>\n",
              "      <th>Frequency</th>\n",
              "      <th>Monetary</th>\n",
              "    </tr>\n",
              "  </thead>\n",
              "  <tbody>\n",
              "    <tr>\n",
              "      <th>0</th>\n",
              "      <td>123460</td>\n",
              "      <td>326</td>\n",
              "      <td>1</td>\n",
              "      <td>77183.60</td>\n",
              "    </tr>\n",
              "    <tr>\n",
              "      <th>1</th>\n",
              "      <td>127470</td>\n",
              "      <td>2</td>\n",
              "      <td>96</td>\n",
              "      <td>3837.45</td>\n",
              "    </tr>\n",
              "    <tr>\n",
              "      <th>2</th>\n",
              "      <td>127480</td>\n",
              "      <td>1</td>\n",
              "      <td>3899</td>\n",
              "      <td>30298.80</td>\n",
              "    </tr>\n",
              "    <tr>\n",
              "      <th>3</th>\n",
              "      <td>127490</td>\n",
              "      <td>4</td>\n",
              "      <td>199</td>\n",
              "      <td>4090.88</td>\n",
              "    </tr>\n",
              "    <tr>\n",
              "      <th>4</th>\n",
              "      <td>128200</td>\n",
              "      <td>3</td>\n",
              "      <td>59</td>\n",
              "      <td>942.34</td>\n",
              "    </tr>\n",
              "  </tbody>\n",
              "</table>\n",
              "</div>\n",
              "      <button class=\"colab-df-convert\" onclick=\"convertToInteractive('df-1d701c27-ee5f-47f2-bf61-8244f8557dfb')\"\n",
              "              title=\"Convert this dataframe to an interactive table.\"\n",
              "              style=\"display:none;\">\n",
              "        \n",
              "  <svg xmlns=\"http://www.w3.org/2000/svg\" height=\"24px\"viewBox=\"0 0 24 24\"\n",
              "       width=\"24px\">\n",
              "    <path d=\"M0 0h24v24H0V0z\" fill=\"none\"/>\n",
              "    <path d=\"M18.56 5.44l.94 2.06.94-2.06 2.06-.94-2.06-.94-.94-2.06-.94 2.06-2.06.94zm-11 1L8.5 8.5l.94-2.06 2.06-.94-2.06-.94L8.5 2.5l-.94 2.06-2.06.94zm10 10l.94 2.06.94-2.06 2.06-.94-2.06-.94-.94-2.06-.94 2.06-2.06.94z\"/><path d=\"M17.41 7.96l-1.37-1.37c-.4-.4-.92-.59-1.43-.59-.52 0-1.04.2-1.43.59L10.3 9.45l-7.72 7.72c-.78.78-.78 2.05 0 2.83L4 21.41c.39.39.9.59 1.41.59.51 0 1.02-.2 1.41-.59l7.78-7.78 2.81-2.81c.8-.78.8-2.07 0-2.86zM5.41 20L4 18.59l7.72-7.72 1.47 1.35L5.41 20z\"/>\n",
              "  </svg>\n",
              "      </button>\n",
              "      \n",
              "  <style>\n",
              "    .colab-df-container {\n",
              "      display:flex;\n",
              "      flex-wrap:wrap;\n",
              "      gap: 12px;\n",
              "    }\n",
              "\n",
              "    .colab-df-convert {\n",
              "      background-color: #E8F0FE;\n",
              "      border: none;\n",
              "      border-radius: 50%;\n",
              "      cursor: pointer;\n",
              "      display: none;\n",
              "      fill: #1967D2;\n",
              "      height: 32px;\n",
              "      padding: 0 0 0 0;\n",
              "      width: 32px;\n",
              "    }\n",
              "\n",
              "    .colab-df-convert:hover {\n",
              "      background-color: #E2EBFA;\n",
              "      box-shadow: 0px 1px 2px rgba(60, 64, 67, 0.3), 0px 1px 3px 1px rgba(60, 64, 67, 0.15);\n",
              "      fill: #174EA6;\n",
              "    }\n",
              "\n",
              "    [theme=dark] .colab-df-convert {\n",
              "      background-color: #3B4455;\n",
              "      fill: #D2E3FC;\n",
              "    }\n",
              "\n",
              "    [theme=dark] .colab-df-convert:hover {\n",
              "      background-color: #434B5C;\n",
              "      box-shadow: 0px 1px 3px 1px rgba(0, 0, 0, 0.15);\n",
              "      filter: drop-shadow(0px 1px 2px rgba(0, 0, 0, 0.3));\n",
              "      fill: #FFFFFF;\n",
              "    }\n",
              "  </style>\n",
              "\n",
              "      <script>\n",
              "        const buttonEl =\n",
              "          document.querySelector('#df-1d701c27-ee5f-47f2-bf61-8244f8557dfb button.colab-df-convert');\n",
              "        buttonEl.style.display =\n",
              "          google.colab.kernel.accessAllowed ? 'block' : 'none';\n",
              "\n",
              "        async function convertToInteractive(key) {\n",
              "          const element = document.querySelector('#df-1d701c27-ee5f-47f2-bf61-8244f8557dfb');\n",
              "          const dataTable =\n",
              "            await google.colab.kernel.invokeFunction('convertToInteractive',\n",
              "                                                     [key], {});\n",
              "          if (!dataTable) return;\n",
              "\n",
              "          const docLinkHtml = 'Like what you see? Visit the ' +\n",
              "            '<a target=\"_blank\" href=https://colab.research.google.com/notebooks/data_table.ipynb>data table notebook</a>'\n",
              "            + ' to learn more about interactive tables.';\n",
              "          element.innerHTML = '';\n",
              "          dataTable['output_type'] = 'display_data';\n",
              "          await google.colab.output.renderOutput(dataTable, element);\n",
              "          const docLink = document.createElement('div');\n",
              "          docLink.innerHTML = docLinkHtml;\n",
              "          element.appendChild(docLink);\n",
              "        }\n",
              "      </script>\n",
              "    </div>\n",
              "  </div>\n",
              "  "
            ]
          },
          "metadata": {},
          "execution_count": 25
        }
      ]
    },
    {
      "cell_type": "code",
      "source": [
        "### Getting individual RFM scores by using quantiles for each of the columns\n",
        "data_rfm['R_score'] = pd.qcut(data_rfm['Recency'], 4, labels=False)\n",
        "data_rfm['F_score'] = pd.qcut(data_rfm['Frequency'], 4, labels=False)\n",
        "data_rfm['M_score'] = pd.qcut(data_rfm['Monetary'], 4, labels=False)\n",
        "\n",
        "### Since a low Recency score means recent transactions and good customer, changine quantile values \n",
        "### so that low values rank highest ans vice versa\n",
        "data_rfm['R_score'] = 3 - data_rfm['R_score']\n",
        "\n",
        "data_rfm['RFM'] = data_rfm.R_score.map(str) \\\n",
        "                            + data_rfm.F_score.map(str) \\\n",
        "                            + data_rfm.M_score.map(str)\n",
        "\n",
        "### Calculating Final RFM score\n",
        "data_rfm[\"RFM_Score\"] = data_rfm['R_score'] + data_rfm['F_score'] + data_rfm['M_score']\n",
        "data_rfm.head(10)"
      ],
      "metadata": {
        "id": "jaFSH7GqDWcA",
        "outputId": "edc65171-3784-4be3-e7ab-f8c37d25fe09",
        "colab": {
          "base_uri": "https://localhost:8080/",
          "height": 363
        }
      },
      "execution_count": 26,
      "outputs": [
        {
          "output_type": "execute_result",
          "data": {
            "text/plain": [
              "    NewID  Recency  Frequency  Monetary  R_score  F_score  M_score  RFM  \\\n",
              "0  123460      326          1  77183.60        0        0        3  003   \n",
              "1  127470        2         96   3837.45        3        2        3  323   \n",
              "2  127480        1       3899  30298.80        3        3        3  333   \n",
              "3  127490        4        199   4090.88        3        3        3  333   \n",
              "4  128200        3         59    942.34        3        2        2  322   \n",
              "5  128210      214          6     92.72        0        0        0  000   \n",
              "6  128220       71         46    948.88        1        2        2  122   \n",
              "7  128230       75          5   1759.50        1        0        3  103   \n",
              "8  128240       60         25    397.12        1        1        1  111   \n",
              "9  128260        3         82   1319.72        3        2        2  322   \n",
              "\n",
              "   RFM_Score  \n",
              "0          3  \n",
              "1          8  \n",
              "2          9  \n",
              "3          9  \n",
              "4          7  \n",
              "5          0  \n",
              "6          5  \n",
              "7          4  \n",
              "8          3  \n",
              "9          7  "
            ],
            "text/html": [
              "\n",
              "  <div id=\"df-7ec03bf4-70b5-4dfa-99b8-8afc0672ef4c\">\n",
              "    <div class=\"colab-df-container\">\n",
              "      <div>\n",
              "<style scoped>\n",
              "    .dataframe tbody tr th:only-of-type {\n",
              "        vertical-align: middle;\n",
              "    }\n",
              "\n",
              "    .dataframe tbody tr th {\n",
              "        vertical-align: top;\n",
              "    }\n",
              "\n",
              "    .dataframe thead th {\n",
              "        text-align: right;\n",
              "    }\n",
              "</style>\n",
              "<table border=\"1\" class=\"dataframe\">\n",
              "  <thead>\n",
              "    <tr style=\"text-align: right;\">\n",
              "      <th></th>\n",
              "      <th>NewID</th>\n",
              "      <th>Recency</th>\n",
              "      <th>Frequency</th>\n",
              "      <th>Monetary</th>\n",
              "      <th>R_score</th>\n",
              "      <th>F_score</th>\n",
              "      <th>M_score</th>\n",
              "      <th>RFM</th>\n",
              "      <th>RFM_Score</th>\n",
              "    </tr>\n",
              "  </thead>\n",
              "  <tbody>\n",
              "    <tr>\n",
              "      <th>0</th>\n",
              "      <td>123460</td>\n",
              "      <td>326</td>\n",
              "      <td>1</td>\n",
              "      <td>77183.60</td>\n",
              "      <td>0</td>\n",
              "      <td>0</td>\n",
              "      <td>3</td>\n",
              "      <td>003</td>\n",
              "      <td>3</td>\n",
              "    </tr>\n",
              "    <tr>\n",
              "      <th>1</th>\n",
              "      <td>127470</td>\n",
              "      <td>2</td>\n",
              "      <td>96</td>\n",
              "      <td>3837.45</td>\n",
              "      <td>3</td>\n",
              "      <td>2</td>\n",
              "      <td>3</td>\n",
              "      <td>323</td>\n",
              "      <td>8</td>\n",
              "    </tr>\n",
              "    <tr>\n",
              "      <th>2</th>\n",
              "      <td>127480</td>\n",
              "      <td>1</td>\n",
              "      <td>3899</td>\n",
              "      <td>30298.80</td>\n",
              "      <td>3</td>\n",
              "      <td>3</td>\n",
              "      <td>3</td>\n",
              "      <td>333</td>\n",
              "      <td>9</td>\n",
              "    </tr>\n",
              "    <tr>\n",
              "      <th>3</th>\n",
              "      <td>127490</td>\n",
              "      <td>4</td>\n",
              "      <td>199</td>\n",
              "      <td>4090.88</td>\n",
              "      <td>3</td>\n",
              "      <td>3</td>\n",
              "      <td>3</td>\n",
              "      <td>333</td>\n",
              "      <td>9</td>\n",
              "    </tr>\n",
              "    <tr>\n",
              "      <th>4</th>\n",
              "      <td>128200</td>\n",
              "      <td>3</td>\n",
              "      <td>59</td>\n",
              "      <td>942.34</td>\n",
              "      <td>3</td>\n",
              "      <td>2</td>\n",
              "      <td>2</td>\n",
              "      <td>322</td>\n",
              "      <td>7</td>\n",
              "    </tr>\n",
              "    <tr>\n",
              "      <th>5</th>\n",
              "      <td>128210</td>\n",
              "      <td>214</td>\n",
              "      <td>6</td>\n",
              "      <td>92.72</td>\n",
              "      <td>0</td>\n",
              "      <td>0</td>\n",
              "      <td>0</td>\n",
              "      <td>000</td>\n",
              "      <td>0</td>\n",
              "    </tr>\n",
              "    <tr>\n",
              "      <th>6</th>\n",
              "      <td>128220</td>\n",
              "      <td>71</td>\n",
              "      <td>46</td>\n",
              "      <td>948.88</td>\n",
              "      <td>1</td>\n",
              "      <td>2</td>\n",
              "      <td>2</td>\n",
              "      <td>122</td>\n",
              "      <td>5</td>\n",
              "    </tr>\n",
              "    <tr>\n",
              "      <th>7</th>\n",
              "      <td>128230</td>\n",
              "      <td>75</td>\n",
              "      <td>5</td>\n",
              "      <td>1759.50</td>\n",
              "      <td>1</td>\n",
              "      <td>0</td>\n",
              "      <td>3</td>\n",
              "      <td>103</td>\n",
              "      <td>4</td>\n",
              "    </tr>\n",
              "    <tr>\n",
              "      <th>8</th>\n",
              "      <td>128240</td>\n",
              "      <td>60</td>\n",
              "      <td>25</td>\n",
              "      <td>397.12</td>\n",
              "      <td>1</td>\n",
              "      <td>1</td>\n",
              "      <td>1</td>\n",
              "      <td>111</td>\n",
              "      <td>3</td>\n",
              "    </tr>\n",
              "    <tr>\n",
              "      <th>9</th>\n",
              "      <td>128260</td>\n",
              "      <td>3</td>\n",
              "      <td>82</td>\n",
              "      <td>1319.72</td>\n",
              "      <td>3</td>\n",
              "      <td>2</td>\n",
              "      <td>2</td>\n",
              "      <td>322</td>\n",
              "      <td>7</td>\n",
              "    </tr>\n",
              "  </tbody>\n",
              "</table>\n",
              "</div>\n",
              "      <button class=\"colab-df-convert\" onclick=\"convertToInteractive('df-7ec03bf4-70b5-4dfa-99b8-8afc0672ef4c')\"\n",
              "              title=\"Convert this dataframe to an interactive table.\"\n",
              "              style=\"display:none;\">\n",
              "        \n",
              "  <svg xmlns=\"http://www.w3.org/2000/svg\" height=\"24px\"viewBox=\"0 0 24 24\"\n",
              "       width=\"24px\">\n",
              "    <path d=\"M0 0h24v24H0V0z\" fill=\"none\"/>\n",
              "    <path d=\"M18.56 5.44l.94 2.06.94-2.06 2.06-.94-2.06-.94-.94-2.06-.94 2.06-2.06.94zm-11 1L8.5 8.5l.94-2.06 2.06-.94-2.06-.94L8.5 2.5l-.94 2.06-2.06.94zm10 10l.94 2.06.94-2.06 2.06-.94-2.06-.94-.94-2.06-.94 2.06-2.06.94z\"/><path d=\"M17.41 7.96l-1.37-1.37c-.4-.4-.92-.59-1.43-.59-.52 0-1.04.2-1.43.59L10.3 9.45l-7.72 7.72c-.78.78-.78 2.05 0 2.83L4 21.41c.39.39.9.59 1.41.59.51 0 1.02-.2 1.41-.59l7.78-7.78 2.81-2.81c.8-.78.8-2.07 0-2.86zM5.41 20L4 18.59l7.72-7.72 1.47 1.35L5.41 20z\"/>\n",
              "  </svg>\n",
              "      </button>\n",
              "      \n",
              "  <style>\n",
              "    .colab-df-container {\n",
              "      display:flex;\n",
              "      flex-wrap:wrap;\n",
              "      gap: 12px;\n",
              "    }\n",
              "\n",
              "    .colab-df-convert {\n",
              "      background-color: #E8F0FE;\n",
              "      border: none;\n",
              "      border-radius: 50%;\n",
              "      cursor: pointer;\n",
              "      display: none;\n",
              "      fill: #1967D2;\n",
              "      height: 32px;\n",
              "      padding: 0 0 0 0;\n",
              "      width: 32px;\n",
              "    }\n",
              "\n",
              "    .colab-df-convert:hover {\n",
              "      background-color: #E2EBFA;\n",
              "      box-shadow: 0px 1px 2px rgba(60, 64, 67, 0.3), 0px 1px 3px 1px rgba(60, 64, 67, 0.15);\n",
              "      fill: #174EA6;\n",
              "    }\n",
              "\n",
              "    [theme=dark] .colab-df-convert {\n",
              "      background-color: #3B4455;\n",
              "      fill: #D2E3FC;\n",
              "    }\n",
              "\n",
              "    [theme=dark] .colab-df-convert:hover {\n",
              "      background-color: #434B5C;\n",
              "      box-shadow: 0px 1px 3px 1px rgba(0, 0, 0, 0.15);\n",
              "      filter: drop-shadow(0px 1px 2px rgba(0, 0, 0, 0.3));\n",
              "      fill: #FFFFFF;\n",
              "    }\n",
              "  </style>\n",
              "\n",
              "      <script>\n",
              "        const buttonEl =\n",
              "          document.querySelector('#df-7ec03bf4-70b5-4dfa-99b8-8afc0672ef4c button.colab-df-convert');\n",
              "        buttonEl.style.display =\n",
              "          google.colab.kernel.accessAllowed ? 'block' : 'none';\n",
              "\n",
              "        async function convertToInteractive(key) {\n",
              "          const element = document.querySelector('#df-7ec03bf4-70b5-4dfa-99b8-8afc0672ef4c');\n",
              "          const dataTable =\n",
              "            await google.colab.kernel.invokeFunction('convertToInteractive',\n",
              "                                                     [key], {});\n",
              "          if (!dataTable) return;\n",
              "\n",
              "          const docLinkHtml = 'Like what you see? Visit the ' +\n",
              "            '<a target=\"_blank\" href=https://colab.research.google.com/notebooks/data_table.ipynb>data table notebook</a>'\n",
              "            + ' to learn more about interactive tables.';\n",
              "          element.innerHTML = '';\n",
              "          dataTable['output_type'] = 'display_data';\n",
              "          await google.colab.output.renderOutput(dataTable, element);\n",
              "          const docLink = document.createElement('div');\n",
              "          docLink.innerHTML = docLinkHtml;\n",
              "          element.appendChild(docLink);\n",
              "        }\n",
              "      </script>\n",
              "    </div>\n",
              "  </div>\n",
              "  "
            ]
          },
          "metadata": {},
          "execution_count": 26
        }
      ]
    },
    {
      "cell_type": "markdown",
      "source": [
        "The RFM_Score values will range from 0 (0+0+0) to 9 (3+3+3). Now grouping by the RFM scores to check the mean values of recency, frequency, and monetary corresponding to each score."
      ],
      "metadata": {
        "id": "Xg5_TvMkDc_Z"
      }
    },
    {
      "cell_type": "code",
      "source": [
        "data_rfm.groupby(\"RFM_Score\")[['Recency','Frequency', 'Monetary']].mean()"
      ],
      "metadata": {
        "id": "2zaV2VTbDaeA",
        "outputId": "b3e965f3-61d7-4f83-fd35-33c621f90930",
        "colab": {
          "base_uri": "https://localhost:8080/",
          "height": 394
        }
      },
      "execution_count": 27,
      "outputs": [
        {
          "output_type": "execute_result",
          "data": {
            "text/plain": [
              "              Recency   Frequency     Monetary\n",
              "RFM_Score                                     \n",
              "0          241.753799    7.817629   149.276413\n",
              "1          170.382857   13.728571   225.817457\n",
              "2          146.484649   19.960526   352.133774\n",
              "3           87.495349   27.239535   812.044351\n",
              "4           79.898734   38.779747   716.045114\n",
              "5           56.645000   52.262500   934.094225\n",
              "6           43.568733   73.345013  1758.525747\n",
              "7           31.811370  110.397933  1866.709664\n",
              "8           20.550595  183.101190  3388.595476\n",
              "9            6.894207  351.458438  8019.820176"
            ],
            "text/html": [
              "\n",
              "  <div id=\"df-6f3b2625-642f-4b5a-a9b0-39a79c25c2b3\">\n",
              "    <div class=\"colab-df-container\">\n",
              "      <div>\n",
              "<style scoped>\n",
              "    .dataframe tbody tr th:only-of-type {\n",
              "        vertical-align: middle;\n",
              "    }\n",
              "\n",
              "    .dataframe tbody tr th {\n",
              "        vertical-align: top;\n",
              "    }\n",
              "\n",
              "    .dataframe thead th {\n",
              "        text-align: right;\n",
              "    }\n",
              "</style>\n",
              "<table border=\"1\" class=\"dataframe\">\n",
              "  <thead>\n",
              "    <tr style=\"text-align: right;\">\n",
              "      <th></th>\n",
              "      <th>Recency</th>\n",
              "      <th>Frequency</th>\n",
              "      <th>Monetary</th>\n",
              "    </tr>\n",
              "    <tr>\n",
              "      <th>RFM_Score</th>\n",
              "      <th></th>\n",
              "      <th></th>\n",
              "      <th></th>\n",
              "    </tr>\n",
              "  </thead>\n",
              "  <tbody>\n",
              "    <tr>\n",
              "      <th>0</th>\n",
              "      <td>241.753799</td>\n",
              "      <td>7.817629</td>\n",
              "      <td>149.276413</td>\n",
              "    </tr>\n",
              "    <tr>\n",
              "      <th>1</th>\n",
              "      <td>170.382857</td>\n",
              "      <td>13.728571</td>\n",
              "      <td>225.817457</td>\n",
              "    </tr>\n",
              "    <tr>\n",
              "      <th>2</th>\n",
              "      <td>146.484649</td>\n",
              "      <td>19.960526</td>\n",
              "      <td>352.133774</td>\n",
              "    </tr>\n",
              "    <tr>\n",
              "      <th>3</th>\n",
              "      <td>87.495349</td>\n",
              "      <td>27.239535</td>\n",
              "      <td>812.044351</td>\n",
              "    </tr>\n",
              "    <tr>\n",
              "      <th>4</th>\n",
              "      <td>79.898734</td>\n",
              "      <td>38.779747</td>\n",
              "      <td>716.045114</td>\n",
              "    </tr>\n",
              "    <tr>\n",
              "      <th>5</th>\n",
              "      <td>56.645000</td>\n",
              "      <td>52.262500</td>\n",
              "      <td>934.094225</td>\n",
              "    </tr>\n",
              "    <tr>\n",
              "      <th>6</th>\n",
              "      <td>43.568733</td>\n",
              "      <td>73.345013</td>\n",
              "      <td>1758.525747</td>\n",
              "    </tr>\n",
              "    <tr>\n",
              "      <th>7</th>\n",
              "      <td>31.811370</td>\n",
              "      <td>110.397933</td>\n",
              "      <td>1866.709664</td>\n",
              "    </tr>\n",
              "    <tr>\n",
              "      <th>8</th>\n",
              "      <td>20.550595</td>\n",
              "      <td>183.101190</td>\n",
              "      <td>3388.595476</td>\n",
              "    </tr>\n",
              "    <tr>\n",
              "      <th>9</th>\n",
              "      <td>6.894207</td>\n",
              "      <td>351.458438</td>\n",
              "      <td>8019.820176</td>\n",
              "    </tr>\n",
              "  </tbody>\n",
              "</table>\n",
              "</div>\n",
              "      <button class=\"colab-df-convert\" onclick=\"convertToInteractive('df-6f3b2625-642f-4b5a-a9b0-39a79c25c2b3')\"\n",
              "              title=\"Convert this dataframe to an interactive table.\"\n",
              "              style=\"display:none;\">\n",
              "        \n",
              "  <svg xmlns=\"http://www.w3.org/2000/svg\" height=\"24px\"viewBox=\"0 0 24 24\"\n",
              "       width=\"24px\">\n",
              "    <path d=\"M0 0h24v24H0V0z\" fill=\"none\"/>\n",
              "    <path d=\"M18.56 5.44l.94 2.06.94-2.06 2.06-.94-2.06-.94-.94-2.06-.94 2.06-2.06.94zm-11 1L8.5 8.5l.94-2.06 2.06-.94-2.06-.94L8.5 2.5l-.94 2.06-2.06.94zm10 10l.94 2.06.94-2.06 2.06-.94-2.06-.94-.94-2.06-.94 2.06-2.06.94z\"/><path d=\"M17.41 7.96l-1.37-1.37c-.4-.4-.92-.59-1.43-.59-.52 0-1.04.2-1.43.59L10.3 9.45l-7.72 7.72c-.78.78-.78 2.05 0 2.83L4 21.41c.39.39.9.59 1.41.59.51 0 1.02-.2 1.41-.59l7.78-7.78 2.81-2.81c.8-.78.8-2.07 0-2.86zM5.41 20L4 18.59l7.72-7.72 1.47 1.35L5.41 20z\"/>\n",
              "  </svg>\n",
              "      </button>\n",
              "      \n",
              "  <style>\n",
              "    .colab-df-container {\n",
              "      display:flex;\n",
              "      flex-wrap:wrap;\n",
              "      gap: 12px;\n",
              "    }\n",
              "\n",
              "    .colab-df-convert {\n",
              "      background-color: #E8F0FE;\n",
              "      border: none;\n",
              "      border-radius: 50%;\n",
              "      cursor: pointer;\n",
              "      display: none;\n",
              "      fill: #1967D2;\n",
              "      height: 32px;\n",
              "      padding: 0 0 0 0;\n",
              "      width: 32px;\n",
              "    }\n",
              "\n",
              "    .colab-df-convert:hover {\n",
              "      background-color: #E2EBFA;\n",
              "      box-shadow: 0px 1px 2px rgba(60, 64, 67, 0.3), 0px 1px 3px 1px rgba(60, 64, 67, 0.15);\n",
              "      fill: #174EA6;\n",
              "    }\n",
              "\n",
              "    [theme=dark] .colab-df-convert {\n",
              "      background-color: #3B4455;\n",
              "      fill: #D2E3FC;\n",
              "    }\n",
              "\n",
              "    [theme=dark] .colab-df-convert:hover {\n",
              "      background-color: #434B5C;\n",
              "      box-shadow: 0px 1px 3px 1px rgba(0, 0, 0, 0.15);\n",
              "      filter: drop-shadow(0px 1px 2px rgba(0, 0, 0, 0.3));\n",
              "      fill: #FFFFFF;\n",
              "    }\n",
              "  </style>\n",
              "\n",
              "      <script>\n",
              "        const buttonEl =\n",
              "          document.querySelector('#df-6f3b2625-642f-4b5a-a9b0-39a79c25c2b3 button.colab-df-convert');\n",
              "        buttonEl.style.display =\n",
              "          google.colab.kernel.accessAllowed ? 'block' : 'none';\n",
              "\n",
              "        async function convertToInteractive(key) {\n",
              "          const element = document.querySelector('#df-6f3b2625-642f-4b5a-a9b0-39a79c25c2b3');\n",
              "          const dataTable =\n",
              "            await google.colab.kernel.invokeFunction('convertToInteractive',\n",
              "                                                     [key], {});\n",
              "          if (!dataTable) return;\n",
              "\n",
              "          const docLinkHtml = 'Like what you see? Visit the ' +\n",
              "            '<a target=\"_blank\" href=https://colab.research.google.com/notebooks/data_table.ipynb>data table notebook</a>'\n",
              "            + ' to learn more about interactive tables.';\n",
              "          element.innerHTML = '';\n",
              "          dataTable['output_type'] = 'display_data';\n",
              "          await google.colab.output.renderOutput(dataTable, element);\n",
              "          const docLink = document.createElement('div');\n",
              "          docLink.innerHTML = docLinkHtml;\n",
              "          element.appendChild(docLink);\n",
              "        }\n",
              "      </script>\n",
              "    </div>\n",
              "  </div>\n",
              "  "
            ]
          },
          "metadata": {},
          "execution_count": 27
        }
      ]
    },
    {
      "cell_type": "markdown",
      "source": [
        "As expected, customers with the lowest RFM scores have the highest recency value and the lowest frequency and monetary value, and the vice-versa is true as well. This can be used to create manual segments based on RFM scores like Loyal Customers Group where Frequancy is High, High Spending Group where Monetary is High, Lost Customers Group where Recency is High etc.\n",
        "\n",
        "Loyal and Good Customers which have High RFM values could be rewarded and heavy discounts are not needed for them. Customers with High Recency (and High Frequency and Monetary values) could be targeted aggresively with discounts so that they are not lost"
      ],
      "metadata": {
        "id": "HAiTGDbeDlNl"
      }
    },
    {
      "cell_type": "markdown",
      "source": [
        "**Modeling : K - Means Clustering**"
      ],
      "metadata": {
        "id": "Q5iDVmrcDrg7"
      }
    },
    {
      "cell_type": "markdown",
      "source": [
        "\n",
        "To properly find out segments on our RFM values, we can use a clustering algorithm like K-means."
      ],
      "metadata": {
        "id": "qAt64_xtDwuS"
      }
    },
    {
      "cell_type": "code",
      "source": [
        "print(\"                ----------------- Distribution Plots for R,F,M -------------------------------\")\n",
        "\n",
        "# Checking the distribution of Recency, Frequency and MonetaryValue variables.\n",
        "plt.figure(figsize=(12,10))\n",
        "# Plot distribution of var1\n",
        "plt.subplot(3, 1, 1); sns.distplot(data_rfm['Recency'])\n",
        "# Plot distribution of var2\n",
        "plt.subplot(3, 1, 2); sns.distplot(data_rfm['Frequency'])\n",
        "# Plot distribution of var3\n",
        "plt.subplot(3, 1, 3); sns.distplot(data_rfm['Monetary'])"
      ],
      "metadata": {
        "id": "KoMNmjXxDjH6",
        "outputId": "7de8464e-ed2c-4d66-9fbe-d1e47899328a",
        "colab": {
          "base_uri": "https://localhost:8080/",
          "height": 641
        }
      },
      "execution_count": 28,
      "outputs": [
        {
          "output_type": "stream",
          "name": "stdout",
          "text": [
            "                ----------------- Distribution Plots for R,F,M -------------------------------\n"
          ]
        },
        {
          "output_type": "execute_result",
          "data": {
            "text/plain": [
              "<matplotlib.axes._subplots.AxesSubplot at 0x7fe86d9db390>"
            ]
          },
          "metadata": {},
          "execution_count": 28
        },
        {
          "output_type": "display_data",
          "data": {
            "text/plain": [
              "<Figure size 864x720 with 3 Axes>"
            ],
            "image/png": "[encoded data removed]"
          },
          "metadata": {
            "needs_background": "light"
          }
        }
      ]
    },
    {
      "cell_type": "markdown",
      "source": [
        "From the above figure, all the variables do not have a symmetrical distribution. All of them are skewed to the right. Since clustering algorithms require a normal distribution, normalization of the data is required.I am using Log transformation to deal with the skewness of data"
      ],
      "metadata": {
        "id": "jZNWMDtMEAM5"
      }
    },
    {
      "cell_type": "code",
      "source": [
        "# Taking Log of columns\n",
        "data_rfm[\"log_R\"] = np.log(data_rfm.Recency)\n",
        "data_rfm[\"log_F\"] = np.log(data_rfm.Frequency)\n",
        "data_rfm[\"log_M\"] = np.log(data_rfm.Monetary)\n",
        "\n",
        "# Checking the distribution of Recency, Frequency and Monetary variables after log transformation\n",
        "print(\"                ----------------- Log Transformation Plots for R,F,M -------------------------------\")\n",
        "plt.figure(figsize=(12,10))\n",
        "plt.subplot(3, 1, 1)\n",
        "sns.distplot(data_rfm['log_R'])\n",
        "plt.subplot(3, 1, 2)\n",
        "sns.distplot(data_rfm['log_F'])\n",
        "plt.subplot(3, 1, 3)\n",
        "sns.distplot(data_rfm['log_M'])"
      ],
      "metadata": {
        "id": "JRCt3s__D6yT",
        "outputId": "aeaec631-d85c-4b69-9bac-e29b41adc6a3",
        "colab": {
          "base_uri": "https://localhost:8080/",
          "height": 641
        }
      },
      "execution_count": 30,
      "outputs": [
        {
          "output_type": "stream",
          "name": "stdout",
          "text": [
            "                ----------------- Log Transformation Plots for R,F,M -------------------------------\n"
          ]
        },
        {
          "output_type": "execute_result",
          "data": {
            "text/plain": [
              "<matplotlib.axes._subplots.AxesSubplot at 0x7fe86e227290>"
            ]
          },
          "metadata": {},
          "execution_count": 30
        },
        {
          "output_type": "display_data",
          "data": {
            "text/plain": [
              "<Figure size 864x720 with 3 Axes>"
            ],
            "image/png": "[encoded data removed]"
          },
          "metadata": {
            "needs_background": "light"
          }
        }
      ]
    },
    {
      "cell_type": "markdown",
      "source": [
        "\n",
        "To Find optimal number of clusters, I will use Elbow method where errors are plotted against K (cluster value) to identify optimal number of clusters"
      ],
      "metadata": {
        "id": "iJ6CSaqqELeI"
      }
    },
    {
      "cell_type": "code",
      "source": [
        "### Features Used in training K Means - Log Transformed Recency, Frequency and Monetary values\n",
        "data_norm = data_rfm[[\"log_R\", \"log_F\", \"log_M\"]]\n",
        "\n",
        "sse = {}\n",
        "# Fit KMeans and calculate SSE for each k\n",
        "for k in range(1, 11):\n",
        "  \n",
        "    # Initialize KMeans with k clusters\n",
        "    kmeans = KMeans(n_clusters=k, random_state=1)\n",
        "    \n",
        "    # Fit KMeans on the normalized dataset\n",
        "    kmeans.fit(data_norm)\n",
        "    \n",
        "    # Assign sum of squared distances to k element of dictionary\n",
        "    sse[k] = kmeans.inertia_\n",
        "    \n",
        "# Plotting the elbow plot\n",
        "plt.figure(figsize=(10,4))\n",
        "plt.title('The Elbow Method')\n",
        "plt.xlabel('k'); \n",
        "plt.ylabel('Sum of squared errors')\n",
        "sns.pointplot(x=list(sse.keys()), y=list(sse.values()))\n",
        "plt.show()"
      ],
      "metadata": {
        "id": "roD-Lo1JEGaU",
        "outputId": "5031a60d-6973-4dc3-b2c3-a6be02fcce30",
        "colab": {
          "base_uri": "https://localhost:8080/",
          "height": 295
        }
      },
      "execution_count": 31,
      "outputs": [
        {
          "output_type": "display_data",
          "data": {
            "text/plain": [
              "<Figure size 720x288 with 1 Axes>"
            ],
            "image/png": "[encoded data removed]"
          },
          "metadata": {
            "needs_background": "light"
          }
        }
      ]
    },
    {
      "cell_type": "code",
      "source": [
        ""
      ],
      "metadata": {
        "id": "ikgSYOcQEO11"
      },
      "execution_count": null,
      "outputs": []
    }
  ]
}